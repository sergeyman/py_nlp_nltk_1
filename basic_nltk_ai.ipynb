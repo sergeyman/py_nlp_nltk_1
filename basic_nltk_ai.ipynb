{
  "nbformat": 4,
  "nbformat_minor": 0,
  "metadata": {
    "colab": {
      "name": "Untitled1.ipynb",
      "provenance": [],
      "collapsed_sections": [],
      "authorship_tag": "ABX9TyMLhs15ne2fTrlnM/mv/8co",
      "include_colab_link": true
    },
    "kernelspec": {
      "name": "python3",
      "display_name": "Python 3"
    },
    "language_info": {
      "name": "python"
    }
  },
  "cells": [
    {
      "cell_type": "markdown",
      "metadata": {
        "id": "view-in-github",
        "colab_type": "text"
      },
      "source": [
        "<a href=\"https://colab.research.google.com/github/sergeyman/py_nlp_nltk_1/blob/main/basic_nltk_ai.ipynb\" target=\"_parent\"><img src=\"https://colab.research.google.com/assets/colab-badge.svg\" alt=\"Open In Colab\"/></a>"
      ]
    },
    {
      "cell_type": "code",
      "metadata": {
        "id": "T4SQ0H4emUkn"
      },
      "source": [
        "import nltk\n",
        "! pip3 install pattern"
      ],
      "execution_count": null,
      "outputs": []
    },
    {
      "cell_type": "code",
      "metadata": {
        "id": "FsJe_PJTmdU6"
      },
      "source": [
        "import gensim\n",
        "import pattern\n"
      ],
      "execution_count": null,
      "outputs": []
    },
    {
      "cell_type": "code",
      "metadata": {
        "id": "A_ekKbQenydL"
      },
      "source": [
        "# 1) Токенизация текстовых данных\n",
        "from nltk.tokenize import sent_tokenize, word_tokenize, WordPunctTokenizer\n",
        "\n",
        "nltk.download('punkt')\n",
        "from nltk.tokenize import sent_tokenize, \\\n",
        "        word_tokenize, WordPunctTokenizer\n",
        "\n",
        "# Define input text\n",
        "input_text = \"Do you know how tokenization works? It's actually quite interesting! Let's analyze a couple of sentences and figure it out.\" \n",
        "\n",
        "# Sentence tokenizer \n",
        "print(\"\\nSentence tokenizer:\")\n",
        "print(sent_tokenize(input_text))\n",
        "\n",
        "# Word tokenizer\n",
        "print(\"\\nWord tokenizer:\")\n",
        "print(word_tokenize(input_text))\n",
        "\n",
        "# WordPunct tokenizer\n",
        "print(\"\\nWord punct tokenizer:\")\n",
        "print(WordPunctTokenizer().tokenize(input_text))\n"
      ],
      "execution_count": null,
      "outputs": []
    },
    {
      "cell_type": "code",
      "metadata": {
        "id": "nwKOa2cYn_qS",
        "colab": {
          "base_uri": "https://localhost:8080/"
        },
        "outputId": "c5197d92-148d-4730-901d-106f790ca722"
      },
      "source": [
        "# 2) Преобразование слов в их базовые формы с помощью стемминга\n",
        "from nltk.stem.porter import PorterStemmer\n",
        "from nltk.stem.lancaster import LancasterStemmer\n",
        "from nltk.stem.snowball import SnowballStemmer\n",
        "\n",
        "input_words = ['writing', 'calves', 'Ье', 'branded', 'horse',\n",
        "'randomize', 'possiЬly', 'provision', 'hospital',\n",
        "'kept', 'scratchy', 'code']\n",
        "\n",
        "# Создание объектов различных стеммеров\n",
        "porter = PorterStemmer()\n",
        "lancaster = LancasterStemmer()\n",
        "snowball = SnowballStemmer('english')\n",
        "\n",
        "# Создание списка имен стеммеров для отображения\n",
        "stemmer_names = ['PORTER', 'LANCASTER', 'SNOWBALL']\n",
        "formatted_text = '{:>16}' * (len(stemmer_names) + 1)\n",
        "print('\\n', formatted_text.format('INPUT WORD', *stemmer_names), '\\n', '='*68)\n",
        "\n",
        "# Стемминг слов и отображение результатов\n",
        "for word in input_words:\n",
        "  output = [word, porter.stem(word), lancaster.stem(word), snowball.stem(word)]\n",
        "  print(formatted_text.format(*output))\n"
      ],
      "execution_count": 18,
      "outputs": [
        {
          "output_type": "stream",
          "text": [
            "\n",
            "       INPUT WORD          PORTER       LANCASTER        SNOWBALL \n",
            " ====================================================================\n",
            "         writing           write            writ           write\n",
            "          calves            calv            calv            calv\n",
            "              Ье              Ье              ье              ье\n",
            "         branded           brand           brand           brand\n",
            "           horse            hors            hors            hors\n",
            "       randomize          random          random          random\n",
            "        possiЬly        possiьli          possiь        possiьli\n",
            "       provision          provis          provid          provis\n",
            "        hospital          hospit          hospit          hospit\n",
            "            kept            kept            kept            kept\n",
            "        scratchy        scratchi        scratchy        scratchi\n",
            "            code            code             cod            code\n"
          ],
          "name": "stdout"
        }
      ]
    },
    {
      "cell_type": "code",
      "metadata": {
        "id": "17_a6wQT0Bx5"
      },
      "source": [
        ""
      ],
      "execution_count": null,
      "outputs": []
    }
  ]
}