{
  "nbformat": 4,
  "nbformat_minor": 0,
  "metadata": {
    "colab": {
      "name": "Untitled1.ipynb",
      "provenance": [],
      "collapsed_sections": [],
      "authorship_tag": "ABX9TyNgmSxAcNG75xyX8g4sNAgM",
      "include_colab_link": true
    },
    "kernelspec": {
      "name": "python3",
      "display_name": "Python 3"
    },
    "language_info": {
      "name": "python"
    }
  },
  "cells": [
    {
      "cell_type": "markdown",
      "metadata": {
        "id": "view-in-github",
        "colab_type": "text"
      },
      "source": [
        "<a href=\"https://colab.research.google.com/github/sergeyman/py_nlp_nltk_1/blob/main/basic_nltk_ai.ipynb\" target=\"_parent\"><img src=\"https://colab.research.google.com/assets/colab-badge.svg\" alt=\"Open In Colab\"/></a>"
      ]
    },
    {
      "cell_type": "code",
      "metadata": {
        "id": "T4SQ0H4emUkn"
      },
      "source": [
        "import nltk\n",
        "! pip3 install pattern"
      ],
      "execution_count": null,
      "outputs": []
    },
    {
      "cell_type": "code",
      "metadata": {
        "id": "FsJe_PJTmdU6"
      },
      "source": [
        "import gensim\n",
        "import pattern\n"
      ],
      "execution_count": null,
      "outputs": []
    },
    {
      "cell_type": "code",
      "metadata": {
        "id": "A_ekKbQenydL"
      },
      "source": [
        "# 1) Токенизация текстовых данных\n",
        "from nltk.tokenize import sent_tokenize, word_tokenize, WordPunctTokenizer\n",
        "\n",
        "nltk.download('punkt')\n",
        "from nltk.tokenize import sent_tokenize, \\\n",
        "        word_tokenize, WordPunctTokenizer\n",
        "\n",
        "# Define input text\n",
        "input_text = \"Do you know how tokenization works? It's actually quite interesting! Let's analyze a couple of sentences and figure it out.\" \n",
        "\n",
        "# Sentence tokenizer \n",
        "print(\"\\nSentence tokenizer:\")\n",
        "print(sent_tokenize(input_text))\n",
        "\n",
        "# Word tokenizer\n",
        "print(\"\\nWord tokenizer:\")\n",
        "print(word_tokenize(input_text))\n",
        "\n",
        "# WordPunct tokenizer\n",
        "print(\"\\nWord punct tokenizer:\")\n",
        "print(WordPunctTokenizer().tokenize(input_text))\n"
      ],
      "execution_count": null,
      "outputs": []
    },
    {
      "cell_type": "code",
      "metadata": {
        "id": "nwKOa2cYn_qS",
        "colab": {
          "base_uri": "https://localhost:8080/"
        },
        "outputId": "64ac0c4e-da4d-4db4-93f5-b77eb7aab960"
      },
      "source": [
        "# 2) Преобразование слов в их базовые формы с помощью стемминга\n",
        "# (приведение слов в их различных формах к общему корню.)\n",
        "from nltk.stem.porter import PorterStemmer            # наименее строгий\n",
        "from nltk.stem.lancaster import LancasterStemmer      # наиболее строгий\n",
        "from nltk.stem.snowball import SnowballStemmer\n",
        "\n",
        "input_words = ['writing', 'calves', 'bе', 'branded', 'horse',\n",
        "'randomize', 'possiЬly', 'provision', 'hospital',\n",
        "'kept', 'scratchy', 'code', 'mice', 'feet', 'trying']\n",
        "\n",
        "# Создание объектов различных стеммеров\n",
        "porter = PorterStemmer()\n",
        "lancaster = LancasterStemmer()\n",
        "snowball = SnowballStemmer('english')\n",
        "\n",
        "# Создание списка имен стеммеров для отображения\n",
        "stemmer_names = ['PORTER', 'LANCASTER', 'SNOWBALL']\n",
        "formatted_text = '{:>16}' * (len(stemmer_names) + 1)\n",
        "print('\\n', formatted_text.format('INPUT WORD', *stemmer_names), '\\n', '='*68)\n",
        "\n",
        "# Стемминг слов и отображение результатов\n",
        "for word in input_words:\n",
        "  output = [word, porter.stem(word), lancaster.stem(word), snowball.stem(word)]\n",
        "  print(formatted_text.format(*output))\n"
      ],
      "execution_count": 29,
      "outputs": [
        {
          "output_type": "stream",
          "text": [
            "\n",
            "       INPUT WORD          PORTER       LANCASTER        SNOWBALL \n",
            " ====================================================================\n",
            "         writing           write            writ           write\n",
            "          calves            calv            calv            calv\n",
            "              bе              bе              bе              bе\n",
            "         branded           brand           brand           brand\n",
            "           horse            hors            hors            hors\n",
            "       randomize          random          random          random\n",
            "        possiЬly        possiьli          possiь        possiьli\n",
            "       provision          provis          provid          provis\n",
            "        hospital          hospit          hospit          hospit\n",
            "            kept            kept            kept            kept\n",
            "        scratchy        scratchi        scratchy        scratchi\n",
            "            code            code             cod            code\n",
            "            mice            mice             mic            mice\n",
            "            feet            feet            feet            feet\n",
            "          trying             tri             try             tri\n"
          ],
          "name": "stdout"
        }
      ]
    },
    {
      "cell_type": "code",
      "metadata": {
        "colab": {
          "base_uri": "https://localhost:8080/"
        },
        "id": "EepMKkv-2wAq",
        "outputId": "5714644c-146a-4c03-b67c-de156763a578"
      },
      "source": [
        "# 3) Преобразование слов в их корневые формы с помощью лемматизации\n",
        "# (более структурированный подход - удаление окончаний -ing, -ed -> баз. форма слова = лемма <calves -> calf>\n",
        "\n",
        "nltk.download('wordnet')              # additional on Error\n",
        "\n",
        "from nltk.stem import WordNetLemmatizer\n",
        "\n",
        "input_words = ['writing', 'calves', 'bе', 'branded', 'horse',\n",
        "'randomize', 'possiЬly', 'provision', 'hospital',\n",
        "'kept', 'scratchy', 'code', 'mice', 'feet', 'trying']\n",
        "\n",
        "# Создание объекта лемматизатора\n",
        "lemmatizer = WordNetLemmatizer()\n",
        "\n",
        "# Создание списка имен лемматизаторов для их отображения\n",
        "lemmatizer_names = ['NOUN LEMМATIZER', 'VERB LEММATIZER']\n",
        "formatted_text = '{:>24}' * (len(lemmatizer_names) + 1)\n",
        "print('\\n', formatted_text.format('INPUT WORD', *lemmatizer_names), '\\n', '='*75)\n",
        "\n",
        "# Лемматизация слов и отображение результатов\n",
        "for word in input_words:\n",
        "  output = [word, lemmatizer.lemmatize(word, pos='n'), lemmatizer.lemmatize(word, pos='v')]\n",
        "  print(formatted_text.format(*output))\n"
      ],
      "execution_count": 27,
      "outputs": [
        {
          "output_type": "stream",
          "text": [
            "[nltk_data] Downloading package wordnet to /root/nltk_data...\n",
            "[nltk_data]   Package wordnet is already up-to-date!\n",
            "\n",
            "               INPUT WORD         NOUN LEMМATIZER         VERB LEММATIZER \n",
            " ===========================================================================\n",
            "                 writing                 writing                   write\n",
            "                  calves                    calf                   calve\n",
            "                      bе                      bе                      bе\n",
            "                 branded                 branded                   brand\n",
            "                   horse                   horse                   horse\n",
            "               randomize               randomize               randomize\n",
            "                possiЬly                possiЬly                possiЬly\n",
            "               provision               provision               provision\n",
            "                hospital                hospital                hospital\n",
            "                    kept                    kept                    keep\n",
            "                scratchy                scratchy                scratchy\n",
            "                    code                    code                    code\n",
            "                    mice                   mouse                    mice\n",
            "                    feet                    foot                    feet\n",
            "                  trying                  trying                     try\n"
          ],
          "name": "stdout"
        }
      ]
    },
    {
      "cell_type": "code",
      "metadata": {
        "id": "17_a6wQT0Bx5"
      },
      "source": [
        "# 3) Разбиение текстовых данных на информационные блоки (chunks)\n",
        "import numpy as np\n",
        "from nltk.corpus import brown    # Коллекция текстов\n",
        "\n",
        "# Разбиение входного текста на блоки, причем каждый блок содержит N слов\n",
        "def chunkier(input_data, N):\n",
        "  input_words\n",
        "  output = []\n",
        "\n",
        "  cur_chunk = []\n",
        "  count = О\n",
        "  for word in input_words:\n",
        "    cur_chunk.append(word)\n",
        "    count += 1\n",
        "    if count == N:\n",
        "      output.append(' '.join(cur_chunk))\n",
        "      count, cur_chunk = О, []\n",
        "  output.append(' '.join(cur_chunk))\n",
        "  return output\n",
        "\n",
        "\n",
        "# https://stackoverflow.com/questions/22923002/if-name-main-in-ipython\n",
        "# if __name__=='__main__':\n",
        "if __name__ == '__main__' and '__file__' in globals():\n",
        "    # Read the first 12000 words from the Brown corpus\n",
        "    input_data = ' '.join(brown.words()[:12000])\n",
        "\n",
        "    # Define the number of words in each chunk \n",
        "    chunk_size = 700\n",
        "\n",
        "    chunks = chunker(input_data, chunk_size)\n",
        "    print('\\nNumber of text chunks =', len(chunks), '\\n')\n",
        "    for i, chunk in enumerate(chunks):\n",
        "        print('Chunk', i+1, '==>', chunk[:50])\n"
      ],
      "execution_count": 39,
      "outputs": []
    }
  ]
}