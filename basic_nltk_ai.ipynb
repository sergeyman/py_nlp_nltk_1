{
  "nbformat": 4,
  "nbformat_minor": 0,
  "metadata": {
    "colab": {
      "name": "Untitled1.ipynb",
      "provenance": [],
      "collapsed_sections": [],
      "authorship_tag": "ABX9TyMS4vC5qttuyxY0bjqrimCO",
      "include_colab_link": true
    },
    "kernelspec": {
      "name": "python3",
      "display_name": "Python 3"
    },
    "language_info": {
      "name": "python"
    }
  },
  "cells": [
    {
      "cell_type": "markdown",
      "metadata": {
        "id": "view-in-github",
        "colab_type": "text"
      },
      "source": [
        "<a href=\"https://colab.research.google.com/github/sergeyman/py_nlp_nltk_1/blob/main/basic_nltk_ai.ipynb\" target=\"_parent\"><img src=\"https://colab.research.google.com/assets/colab-badge.svg\" alt=\"Open In Colab\"/></a>"
      ]
    },
    {
      "cell_type": "code",
      "metadata": {
        "id": "T4SQ0H4emUkn"
      },
      "source": [
        "import nltk\n",
        "! pip3 install pattern"
      ],
      "execution_count": null,
      "outputs": []
    },
    {
      "cell_type": "code",
      "metadata": {
        "id": "FsJe_PJTmdU6"
      },
      "source": [
        "import gensim\n",
        "import pattern\n"
      ],
      "execution_count": 12,
      "outputs": []
    },
    {
      "cell_type": "code",
      "metadata": {
        "colab": {
          "base_uri": "https://localhost:8080/",
          "height": 129
        },
        "id": "J8tEE-0Jnji7",
        "outputId": "dd74cae9-ebbc-4eca-9732-90f2788734d9"
      },
      "source": [
        "# pip3 install pattern\n"
      ],
      "execution_count": 7,
      "outputs": [
        {
          "output_type": "error",
          "ename": "SyntaxError",
          "evalue": "ignored",
          "traceback": [
            "\u001b[0;36m  File \u001b[0;32m\"<ipython-input-7-102dfb1d7470>\"\u001b[0;36m, line \u001b[0;32m1\u001b[0m\n\u001b[0;31m    pip3 install pattern\u001b[0m\n\u001b[0m               ^\u001b[0m\n\u001b[0;31mSyntaxError\u001b[0m\u001b[0;31m:\u001b[0m invalid syntax\n"
          ]
        }
      ]
    },
    {
      "cell_type": "code",
      "metadata": {
        "id": "Oyg2CJg9nrC3"
      },
      "source": [
        "# pip install pattern\n"
      ],
      "execution_count": null,
      "outputs": []
    },
    {
      "cell_type": "code",
      "metadata": {
        "id": "A_ekKbQenydL"
      },
      "source": [
        "from nltk.tokenize import sent_tokenize, word_tokenize, WordPunctTokenizer\n"
      ],
      "execution_count": 13,
      "outputs": []
    },
    {
      "cell_type": "code",
      "metadata": {
        "colab": {
          "base_uri": "https://localhost:8080/"
        },
        "id": "9m8BqAPnn6jx",
        "outputId": "7642252e-f025-4860-e8c3-1a931fe17acb"
      },
      "source": [
        "!pip install gensim\n",
        "# Определение входного текста\n",
        "input_text = \"Do you know how tokenization works? It's actually quite interesting! Let's analyze а couple of sentences and figure it out.\""
      ],
      "execution_count": 14,
      "outputs": [
        {
          "output_type": "stream",
          "text": [
            "Requirement already satisfied: gensim in /usr/local/lib/python3.7/dist-packages (3.6.0)\n",
            "Requirement already satisfied: six>=1.5.0 in /usr/local/lib/python3.7/dist-packages (from gensim) (1.15.0)\n",
            "Requirement already satisfied: smart-open>=1.2.1 in /usr/local/lib/python3.7/dist-packages (from gensim) (4.2.0)\n",
            "Requirement already satisfied: scipy>=0.18.1 in /usr/local/lib/python3.7/dist-packages (from gensim) (1.4.1)\n",
            "Requirement already satisfied: numpy>=1.11.3 in /usr/local/lib/python3.7/dist-packages (from gensim) (1.19.5)\n"
          ],
          "name": "stdout"
        }
      ]
    },
    {
      "cell_type": "code",
      "metadata": {
        "id": "nwKOa2cYn_qS"
      },
      "source": [
        "nltk.download('punkt')\n",
        "from nltk.tokenize import sent_tokenize, \\\n",
        "        word_tokenize, WordPunctTokenizer\n",
        "\n",
        "# Define input text\n",
        "input_text = \"Do you know how tokenization works? It's actually quite interesting! Let's analyze a couple of sentences and figure it out.\" \n",
        "\n",
        "# Sentence tokenizer \n",
        "print(\"\\nSentence tokenizer:\")\n",
        "print(sent_tokenize(input_text))\n",
        "\n",
        "# Word tokenizer\n",
        "print(\"\\nWord tokenizer:\")\n",
        "print(word_tokenize(input_text))\n",
        "\n",
        "# WordPunct tokenizer\n",
        "print(\"\\nWord punct tokenizer:\")\n",
        "print(WordPunctTokenizer().tokenize(input_text))"
      ],
      "execution_count": null,
      "outputs": []
    }
  ]
}