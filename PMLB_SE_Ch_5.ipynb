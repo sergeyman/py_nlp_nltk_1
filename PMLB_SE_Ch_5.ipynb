{
  "nbformat": 4,
  "nbformat_minor": 0,
  "metadata": {
    "kernelspec": {
      "display_name": "Python 3",
      "language": "python",
      "name": "python3"
    },
    "language_info": {
      "codemirror_mode": {
        "name": "ipython",
        "version": 3
      },
      "file_extension": ".py",
      "mimetype": "text/x-python",
      "name": "python",
      "nbconvert_exporter": "python",
      "pygments_lexer": "ipython3",
      "version": "3.6.5"
    },
    "colab": {
      "name": "PMLB SE - Ch 5.ipynb",
      "provenance": [],
      "collapsed_sections": [
        "4o1o1tSe4BbK",
        "oMxbgUqQ4BbR",
        "9aVdIyKQ4BbX",
        "nA9GESbj4Bba",
        "ILHrpWUG4Bbd"
      ],
      "include_colab_link": true
    }
  },
  "cells": [
    {
      "cell_type": "markdown",
      "metadata": {
        "id": "view-in-github",
        "colab_type": "text"
      },
      "source": [
        "<a href=\"https://colab.research.google.com/github/sergeyman/py_nlp_nltk_1/blob/main/PMLB_SE_Ch_5.ipynb\" target=\"_parent\"><img src=\"https://colab.research.google.com/assets/colab-badge.svg\" alt=\"Open In Colab\"/></a>"
      ]
    },
    {
      "cell_type": "code",
      "metadata": {
        "id": "42b1HBTK4Ba-"
      },
      "source": [
        "\n",
        "# Pocket\n",
        "# My Applications\n",
        "# In Development\n",
        "# NAME\t\tPLATFORM\t\tCONSUMER KEY\n",
        "# Newsfeed\tAndroid - Mobile\t96779-785f8e21498d91359ddbeb55\n",
        "# Newsfeed\tAndroid - Tablet\t96779-3eb65576097636bbae7de71d\n",
        "# Newsfeed\tExtension\t\t96779-ceabd8029fdf6078580f4ccc\n",
        "# Newsfeed\tWindows - Desktop\t96779-4bdbc0dcdfe1e3e89da9b55f\n",
        "# Newsfeed\tWeb\t\t\t96779-f71d606f7d5a34fa3a1cb015\n",
        "# Newsfeed\tMobile (other)\t\t96779-a30d61857b2c0f2c0b6cc914\n",
        "# Newsfeed\tDesktop (other)\t\t96779-fcaf090432e3b6a8a08e644c\n",
        "\n",
        "\n",
        "import requests\n",
        "import pandas as pd\n",
        "import json\n",
        "pd.set_option('display.max_colwidth', 200)"
      ],
      "execution_count": 1,
      "outputs": []
    },
    {
      "cell_type": "markdown",
      "metadata": {
        "id": "yGBDAmaA4BbC"
      },
      "source": [
        "## Get Stories from Pocket"
      ]
    },
    {
      "cell_type": "code",
      "metadata": {
        "id": "s-GGr8Qm4BbD"
      },
      "source": [
        "CONSUMER_KEY = '96779-4bdbc0dcdfe1e3e89da9b55f'  #'your_pocket_consumer_key'"
      ],
      "execution_count": 2,
      "outputs": []
    },
    {
      "cell_type": "code",
      "metadata": {
        "id": "3TSKsvP24BbE"
      },
      "source": [
        "auth_params = {'consumer_key': CONSUMER_KEY, 'redirect_uri': 'https://twitter.com/acombs'}"
      ],
      "execution_count": 3,
      "outputs": []
    },
    {
      "cell_type": "code",
      "metadata": {
        "id": "YEV5vedb4BbE"
      },
      "source": [
        "tkn = requests.post('https://getpocket.com/v3/oauth/request', data=auth_params)"
      ],
      "execution_count": 4,
      "outputs": []
    },
    {
      "cell_type": "code",
      "metadata": {
        "colab": {
          "base_uri": "https://localhost:8080/",
          "height": 35
        },
        "id": "D-JiB0wq4BbF",
        "outputId": "509327cd-4c40-44c6-80de-8e8012a67108"
      },
      "source": [
        "tkn.text"
      ],
      "execution_count": 5,
      "outputs": [
        {
          "output_type": "execute_result",
          "data": {
            "application/vnd.google.colaboratory.intrinsic+json": {
              "type": "string"
            },
            "text/plain": [
              "'code=223b8284-5921-fdc1-108b-967cae'"
            ]
          },
          "metadata": {
            "tags": []
          },
          "execution_count": 5
        }
      ]
    },
    {
      "cell_type": "code",
      "metadata": {
        "id": "uWgsSy-z4BbG"
      },
      "source": [
        "ACCESS_CODE = tkn.text.split('=')[1]"
      ],
      "execution_count": 6,
      "outputs": []
    },
    {
      "cell_type": "code",
      "metadata": {
        "colab": {
          "base_uri": "https://localhost:8080/",
          "height": 35
        },
        "id": "7t0Caz9u4BbG",
        "outputId": "91de436f-54bf-40f6-cf06-c9e24f44e29c"
      },
      "source": [
        "ACCESS_CODE"
      ],
      "execution_count": 7,
      "outputs": [
        {
          "output_type": "execute_result",
          "data": {
            "application/vnd.google.colaboratory.intrinsic+json": {
              "type": "string"
            },
            "text/plain": [
              "'223b8284-5921-fdc1-108b-967cae'"
            ]
          },
          "metadata": {
            "tags": []
          },
          "execution_count": 7
        }
      ]
    },
    {
      "cell_type": "code",
      "metadata": {
        "id": "_13zRqgS4BbH"
      },
      "source": [
        "URL = 'https://getpocket.com/auth/authorize?request_token=' + ACCESS_CODE + '&redirect_uri=https%3A//www.twitter.com/acombs'"
      ],
      "execution_count": 8,
      "outputs": []
    },
    {
      "cell_type": "code",
      "metadata": {
        "colab": {
          "base_uri": "https://localhost:8080/",
          "height": 35
        },
        "id": "dcUJmAa04BbI",
        "outputId": "4382696e-d0e4-4c51-9b79-fad25ad8fe48"
      },
      "source": [
        "URL"
      ],
      "execution_count": 9,
      "outputs": [
        {
          "output_type": "execute_result",
          "data": {
            "application/vnd.google.colaboratory.intrinsic+json": {
              "type": "string"
            },
            "text/plain": [
              "'https://getpocket.com/auth/authorize?request_token=223b8284-5921-fdc1-108b-967cae&redirect_uri=https%3A//www.twitter.com/acombs'"
            ]
          },
          "metadata": {
            "tags": []
          },
          "execution_count": 9
        }
      ]
    },
    {
      "cell_type": "code",
      "metadata": {
        "id": "V4MTlt7Y4BbI"
      },
      "source": [
        "usr_params = {'consumer_key': CONSUMER_KEY, 'code': ACCESS_CODE}"
      ],
      "execution_count": 10,
      "outputs": []
    },
    {
      "cell_type": "code",
      "metadata": {
        "id": "sk4G8VnX4BbJ"
      },
      "source": [
        "usr = requests.post('https://getpocket.com/v3/oauth/authorize', data=usr_params)"
      ],
      "execution_count": 11,
      "outputs": []
    },
    {
      "cell_type": "code",
      "metadata": {
        "colab": {
          "base_uri": "https://localhost:8080/",
          "height": 35
        },
        "id": "nMVcCe-L4BbJ",
        "outputId": "7c5ccecf-97cd-4c86-dbcd-5fcd34e1e0be"
      },
      "source": [
        "usr.text"
      ],
      "execution_count": 12,
      "outputs": [
        {
          "output_type": "execute_result",
          "data": {
            "application/vnd.google.colaboratory.intrinsic+json": {
              "type": "string"
            },
            "text/plain": [
              "'403 Forbidden'"
            ]
          },
          "metadata": {
            "tags": []
          },
          "execution_count": 12
        }
      ]
    },
    {
      "cell_type": "code",
      "metadata": {
        "id": "w6G3t7n44BbJ"
      },
      "source": [
        "ACCESS_TOKEN = usr.text.split('=')[1].split('&')[0]"
      ],
      "execution_count": null,
      "outputs": []
    },
    {
      "cell_type": "code",
      "metadata": {
        "id": "qU9cTURy4BbJ"
      },
      "source": [
        "ACCESS_TOKEN"
      ],
      "execution_count": null,
      "outputs": []
    },
    {
      "cell_type": "markdown",
      "metadata": {
        "id": "4o1o1tSe4BbK"
      },
      "source": [
        "### Get 'no' stories"
      ]
    },
    {
      "cell_type": "code",
      "metadata": {
        "id": "Xcr00ogs4BbK"
      },
      "source": [
        "no_params = {'consumer_key': CONSUMER_KEY,\n",
        "'access_token': ACCESS_TOKEN,\n",
        "'tag': 'n'}"
      ],
      "execution_count": null,
      "outputs": []
    },
    {
      "cell_type": "code",
      "metadata": {
        "id": "ePFSW_mv4BbL"
      },
      "source": [
        "no_result = requests.post('https://getpocket.com/v3/get', data=no_params)"
      ],
      "execution_count": null,
      "outputs": []
    },
    {
      "cell_type": "code",
      "metadata": {
        "id": "KQ6WIIO84BbL"
      },
      "source": [
        "no_result.text"
      ],
      "execution_count": null,
      "outputs": []
    },
    {
      "cell_type": "code",
      "metadata": {
        "id": "6-IdQL4-4BbM"
      },
      "source": [
        "no_jf = json.loads(no_result.text)"
      ],
      "execution_count": null,
      "outputs": []
    },
    {
      "cell_type": "code",
      "metadata": {
        "id": "z1pGldop4BbM"
      },
      "source": [
        "no_jd = no_jf['list']"
      ],
      "execution_count": null,
      "outputs": []
    },
    {
      "cell_type": "code",
      "metadata": {
        "id": "XmkDeJzD4BbN"
      },
      "source": [
        "no_jd"
      ],
      "execution_count": null,
      "outputs": []
    },
    {
      "cell_type": "code",
      "metadata": {
        "id": "mX1KFW8f4BbO"
      },
      "source": [
        "no_urls=[]\n",
        "for i in no_jd.values():\n",
        "    no_urls.append(i.get('resolved_url'))"
      ],
      "execution_count": null,
      "outputs": []
    },
    {
      "cell_type": "code",
      "metadata": {
        "scrolled": true,
        "id": "bImLDare4BbO"
      },
      "source": [
        "no_urls"
      ],
      "execution_count": null,
      "outputs": []
    },
    {
      "cell_type": "code",
      "metadata": {
        "id": "l9Lz32Q24BbP"
      },
      "source": [
        "len(no_urls)"
      ],
      "execution_count": null,
      "outputs": []
    },
    {
      "cell_type": "code",
      "metadata": {
        "scrolled": true,
        "id": "QbPcQ7sP4BbP"
      },
      "source": [
        "no_uf = pd.DataFrame(no_urls, columns=['urls'])"
      ],
      "execution_count": null,
      "outputs": []
    },
    {
      "cell_type": "code",
      "metadata": {
        "scrolled": true,
        "id": "fFrriB0C4BbQ"
      },
      "source": [
        "no_uf"
      ],
      "execution_count": null,
      "outputs": []
    },
    {
      "cell_type": "code",
      "metadata": {
        "id": "CzE2UzrS4BbQ"
      },
      "source": [
        "no_uf = no_uf.assign(wanted = lambda x: 'n')"
      ],
      "execution_count": null,
      "outputs": []
    },
    {
      "cell_type": "code",
      "metadata": {
        "scrolled": true,
        "id": "0ngQ4b4j4BbR"
      },
      "source": [
        "no_uf"
      ],
      "execution_count": null,
      "outputs": []
    },
    {
      "cell_type": "markdown",
      "metadata": {
        "id": "oMxbgUqQ4BbR"
      },
      "source": [
        "### Get 'yes' stories"
      ]
    },
    {
      "cell_type": "code",
      "metadata": {
        "id": "ui5cAHu14BbS"
      },
      "source": [
        "yes_params = {'consumer_key': CONSUMER_KEY,\n",
        "'access_token': ACCESS_TOKEN,\n",
        "'tag': 'y',\n",
        "'state': 'archive'}"
      ],
      "execution_count": null,
      "outputs": []
    },
    {
      "cell_type": "code",
      "metadata": {
        "id": "yFF6hhz94BbS"
      },
      "source": [
        "yes_result = requests.post('https://getpocket.com/v3/get', data=yes_params)"
      ],
      "execution_count": null,
      "outputs": []
    },
    {
      "cell_type": "code",
      "metadata": {
        "id": "Gi3plvej4BbT"
      },
      "source": [
        "yes_result.text"
      ],
      "execution_count": null,
      "outputs": []
    },
    {
      "cell_type": "code",
      "metadata": {
        "id": "Z3OyDdmt4BbT"
      },
      "source": [
        "yes_jf = json.loads(yes_result.text)"
      ],
      "execution_count": null,
      "outputs": []
    },
    {
      "cell_type": "code",
      "metadata": {
        "id": "v9Y17J1q4BbT"
      },
      "source": [
        "yes_jd = yes_jf['list']"
      ],
      "execution_count": null,
      "outputs": []
    },
    {
      "cell_type": "code",
      "metadata": {
        "id": "gRsIdhqx4BbU"
      },
      "source": [
        "yes_jf"
      ],
      "execution_count": null,
      "outputs": []
    },
    {
      "cell_type": "code",
      "metadata": {
        "id": "2eTkK6gl4BbU"
      },
      "source": [
        "yes_urls=[]\n",
        "for i in yes_jd.values():\n",
        "    yes_urls.append(i.get('resolved_url'))"
      ],
      "execution_count": null,
      "outputs": []
    },
    {
      "cell_type": "code",
      "metadata": {
        "id": "0UIbMwnX4BbU"
      },
      "source": [
        "len(yes_urls)"
      ],
      "execution_count": null,
      "outputs": []
    },
    {
      "cell_type": "code",
      "metadata": {
        "scrolled": true,
        "id": "kPt2uK9k4BbV"
      },
      "source": [
        "yes_urls"
      ],
      "execution_count": null,
      "outputs": []
    },
    {
      "cell_type": "code",
      "metadata": {
        "id": "XTLvx6P04BbV"
      },
      "source": [
        "yes_uf = pd.DataFrame(yes_urls, columns=['urls'])"
      ],
      "execution_count": null,
      "outputs": []
    },
    {
      "cell_type": "code",
      "metadata": {
        "scrolled": true,
        "id": "3iQwL7je4BbV"
      },
      "source": [
        "yes_uf"
      ],
      "execution_count": null,
      "outputs": []
    },
    {
      "cell_type": "code",
      "metadata": {
        "scrolled": true,
        "id": "L_q0TNki4BbW"
      },
      "source": [
        "yes_uf = yes_uf.assign(wanted = lambda x: 'y')"
      ],
      "execution_count": null,
      "outputs": []
    },
    {
      "cell_type": "code",
      "metadata": {
        "scrolled": true,
        "id": "MovnRAxB4BbW"
      },
      "source": [
        "yes_uf"
      ],
      "execution_count": null,
      "outputs": []
    },
    {
      "cell_type": "code",
      "metadata": {
        "id": "ltKUXoP94BbW"
      },
      "source": [
        "df = pd.concat([yes_uf, no_uf])"
      ],
      "execution_count": null,
      "outputs": []
    },
    {
      "cell_type": "code",
      "metadata": {
        "scrolled": true,
        "id": "nUEVqFb54BbX"
      },
      "source": [
        "df.dropna(inplace=True)"
      ],
      "execution_count": null,
      "outputs": []
    },
    {
      "cell_type": "code",
      "metadata": {
        "scrolled": true,
        "id": "ht2Ar1T34BbX"
      },
      "source": [
        "df"
      ],
      "execution_count": null,
      "outputs": []
    },
    {
      "cell_type": "markdown",
      "metadata": {
        "id": "9aVdIyKQ4BbX"
      },
      "source": [
        "## Download Articles to Run Through Model"
      ]
    },
    {
      "cell_type": "code",
      "metadata": {
        "id": "O2nqcqXF4BbY"
      },
      "source": [
        "import urllib"
      ],
      "execution_count": null,
      "outputs": []
    },
    {
      "cell_type": "code",
      "metadata": {
        "id": "91pUSSlz4BbY"
      },
      "source": [
        "EMBEDLY_KEY = 'you_embedly_api_key_here'\n",
        "\n",
        "def get_html(x):\n",
        "    try:\n",
        "        qurl = urllib.parse.quote(x)\n",
        "        rhtml = requests.get('https://api.embedly.com/1/extract?url=' + qurl + '&key=' + EMBEDLY_KEY)\n",
        "        ctnt = json.loads(rhtml.text).get('content')\n",
        "    except:\n",
        "        return None\n",
        "    return ctnt"
      ],
      "execution_count": null,
      "outputs": []
    },
    {
      "cell_type": "code",
      "metadata": {
        "scrolled": true,
        "id": "LMYf-1Ik4BbZ"
      },
      "source": [
        "df.loc[:,'html'] = df['urls'].map(get_html)"
      ],
      "execution_count": null,
      "outputs": []
    },
    {
      "cell_type": "code",
      "metadata": {
        "scrolled": true,
        "id": "kYK-VWXj4BbZ"
      },
      "source": [
        "df.dropna(inplace=True)"
      ],
      "execution_count": null,
      "outputs": []
    },
    {
      "cell_type": "code",
      "metadata": {
        "scrolled": true,
        "id": "PQcvBRGa4BbZ"
      },
      "source": [
        "df"
      ],
      "execution_count": null,
      "outputs": []
    },
    {
      "cell_type": "markdown",
      "metadata": {
        "id": "nA9GESbj4Bba"
      },
      "source": [
        "### Extract the text"
      ]
    },
    {
      "cell_type": "code",
      "metadata": {
        "id": "YLwuBn1Q4Bba"
      },
      "source": [
        "from bs4 import BeautifulSoup"
      ],
      "execution_count": null,
      "outputs": []
    },
    {
      "cell_type": "code",
      "metadata": {
        "id": "XIGshrWA4Bba"
      },
      "source": [
        "def get_text(x):\n",
        "    soup = BeautifulSoup(x, 'html5lib')\n",
        "    text = soup.get_text()\n",
        "    return text"
      ],
      "execution_count": null,
      "outputs": []
    },
    {
      "cell_type": "code",
      "metadata": {
        "id": "TF4hrSSP4Bbb"
      },
      "source": [
        "df.loc[:,'text'] = df['html'].map(get_text)"
      ],
      "execution_count": null,
      "outputs": []
    },
    {
      "cell_type": "code",
      "metadata": {
        "scrolled": true,
        "id": "tE0RkGcf4Bbb"
      },
      "source": [
        "df"
      ],
      "execution_count": null,
      "outputs": []
    },
    {
      "cell_type": "markdown",
      "metadata": {
        "id": "UqDGTEn24Bbb"
      },
      "source": [
        "# Implement Tfid Vectorization & Fit Model"
      ]
    },
    {
      "cell_type": "code",
      "metadata": {
        "id": "EUuyKlDB4Bbc"
      },
      "source": [
        "from sklearn.feature_extraction.text import TfidfVectorizer\n",
        "from sklearn.svm import LinearSVC"
      ],
      "execution_count": null,
      "outputs": []
    },
    {
      "cell_type": "code",
      "metadata": {
        "id": "mqomO8Z34Bbc"
      },
      "source": [
        "vect = TfidfVectorizer(ngram_range=(1,3), stop_words='english', min_df=3)"
      ],
      "execution_count": null,
      "outputs": []
    },
    {
      "cell_type": "code",
      "metadata": {
        "id": "9OQWjcHZ4Bbc"
      },
      "source": [
        "tv = vect.fit_transform(df['text'])"
      ],
      "execution_count": null,
      "outputs": []
    },
    {
      "cell_type": "code",
      "metadata": {
        "id": "hJ4_LJ3b4Bbd"
      },
      "source": [
        "clf = LinearSVC()"
      ],
      "execution_count": null,
      "outputs": []
    },
    {
      "cell_type": "code",
      "metadata": {
        "id": "diudnnBg4Bbd"
      },
      "source": [
        "model = clf.fit(tv, df['wanted'])"
      ],
      "execution_count": null,
      "outputs": []
    },
    {
      "cell_type": "markdown",
      "metadata": {
        "id": "ILHrpWUG4Bbd"
      },
      "source": [
        "## Pull New Articles from Google Drive Sheet to Evaluate"
      ]
    },
    {
      "cell_type": "code",
      "metadata": {
        "id": "nnRUWfTb4Bbe"
      },
      "source": [
        "import gspread\n",
        "from oauth2client.service_account import ServiceAccountCredentials"
      ],
      "execution_count": null,
      "outputs": []
    },
    {
      "cell_type": "code",
      "metadata": {
        "id": "xrbx2on14Bbe"
      },
      "source": [
        "JSON_API_KEY = r'/your/path/to/api/key/file.json'\n",
        "\n",
        "scope = ['https://spreadsheets.google.com/feeds',\n",
        "         'https://www.googleapis.com/auth/drive']\n",
        "\n",
        "credentials = ServiceAccountCredentials.from_json_keyfile_name(JSON_API_KEY, scope)\n",
        "gc = gspread.authorize(credentials)"
      ],
      "execution_count": null,
      "outputs": []
    },
    {
      "cell_type": "code",
      "metadata": {
        "id": "wcvkGmdi4Bbe"
      },
      "source": [
        "# must share with client_email in json api key file\n",
        "ws = gc.open(\"NewStories\")"
      ],
      "execution_count": null,
      "outputs": []
    },
    {
      "cell_type": "code",
      "metadata": {
        "id": "wAkTtWqh4Bbf"
      },
      "source": [
        "sh = ws.sheet1"
      ],
      "execution_count": null,
      "outputs": []
    },
    {
      "cell_type": "code",
      "metadata": {
        "id": "HDMXZ4sv4Bbf"
      },
      "source": [
        "zd = list(zip(sh.col_values(2),sh.col_values(3), sh.col_values(4)))"
      ],
      "execution_count": null,
      "outputs": []
    },
    {
      "cell_type": "code",
      "metadata": {
        "id": "6r6maAhX4Bbg"
      },
      "source": [
        "zd"
      ],
      "execution_count": null,
      "outputs": []
    },
    {
      "cell_type": "code",
      "metadata": {
        "id": "Dsy1IsZ-4Bbg"
      },
      "source": [
        "zf = pd.DataFrame(zd, columns=['title','urls','html'])"
      ],
      "execution_count": null,
      "outputs": []
    },
    {
      "cell_type": "code",
      "metadata": {
        "scrolled": true,
        "id": "1EkSHcCH4Bbg"
      },
      "source": [
        "zf.replace('', pd.np.nan, inplace=True)\n",
        "zf.dropna(inplace=True)"
      ],
      "execution_count": null,
      "outputs": []
    },
    {
      "cell_type": "code",
      "metadata": {
        "scrolled": true,
        "id": "UXz0nSW94Bbh"
      },
      "source": [
        "zf"
      ],
      "execution_count": null,
      "outputs": []
    },
    {
      "cell_type": "code",
      "metadata": {
        "id": "ae0zEU3L4Bbh"
      },
      "source": [
        "zf.loc[:,'text'] = zf['html'].map(get_text)"
      ],
      "execution_count": null,
      "outputs": []
    },
    {
      "cell_type": "code",
      "metadata": {
        "id": "y6EDIpDf4Bbh"
      },
      "source": [
        "zf.reset_index(drop=True, inplace=True)"
      ],
      "execution_count": null,
      "outputs": []
    },
    {
      "cell_type": "code",
      "metadata": {
        "id": "z-vzmtsj4Bbi"
      },
      "source": [
        "test_matrix = vect.transform(zf['text'])"
      ],
      "execution_count": null,
      "outputs": []
    },
    {
      "cell_type": "code",
      "metadata": {
        "id": "hUkTNE4x4Bbi"
      },
      "source": [
        "test_matrix"
      ],
      "execution_count": null,
      "outputs": []
    },
    {
      "cell_type": "code",
      "metadata": {
        "scrolled": true,
        "id": "ebqhmAmu4Bbi"
      },
      "source": [
        "results = pd.DataFrame(model.predict(test_matrix), columns=['wanted'])"
      ],
      "execution_count": null,
      "outputs": []
    },
    {
      "cell_type": "code",
      "metadata": {
        "scrolled": true,
        "id": "F2Aw_UDG4Bbj"
      },
      "source": [
        "results"
      ],
      "execution_count": null,
      "outputs": []
    },
    {
      "cell_type": "code",
      "metadata": {
        "id": "hSRksjw-4Bbj"
      },
      "source": [
        "rez = pd.merge(results,zf, left_index=True, right_index=True)"
      ],
      "execution_count": null,
      "outputs": []
    },
    {
      "cell_type": "code",
      "metadata": {
        "scrolled": true,
        "id": "C53pHmOC4Bbj"
      },
      "source": [
        "rez"
      ],
      "execution_count": null,
      "outputs": []
    },
    {
      "cell_type": "code",
      "metadata": {
        "scrolled": true,
        "id": "xXrYdFzC4Bbk"
      },
      "source": [
        "for i, w, t in zip(rez[rez['wanted']=='y'].index, rez[rez['wanted']=='y']['wanted'], rez[rez['wanted']=='y']['title']):\n",
        "    print(i, w, t)"
      ],
      "execution_count": null,
      "outputs": []
    },
    {
      "cell_type": "code",
      "metadata": {
        "id": "raYweRQN4Bbk"
      },
      "source": [
        "# those items to change to no\n",
        "change_to_no = [130, 145, 148, 163, 178, 199, 219, 222, 223, 226, 235, 279, 348, 357, 427, 440, 542, 544, 546, 568, 614, 619, 660, 668, 679, 686, 740, 829]"
      ],
      "execution_count": null,
      "outputs": []
    },
    {
      "cell_type": "code",
      "metadata": {
        "id": "tEFy0rC84Bbk"
      },
      "source": [
        "for i, w, t in zip(rez[rez['wanted']=='n'].index, rez[rez['wanted']=='n']['wanted'], rez[rez['wanted']=='n']['title']):\n",
        "    print(i, w, t)"
      ],
      "execution_count": null,
      "outputs": []
    },
    {
      "cell_type": "code",
      "metadata": {
        "id": "p7rFL0NG4Bbl"
      },
      "source": [
        "# those items to change to yes\n",
        "change_to_yes = [0, 9, 29, 35, 42, 71, 110, 190, 319, 335, 344, 371, 385, 399, 408, 409, 422, 472, 520, 534, 672]"
      ],
      "execution_count": null,
      "outputs": []
    },
    {
      "cell_type": "code",
      "metadata": {
        "id": "yYy2kFwM4Bbl"
      },
      "source": [
        "rez"
      ],
      "execution_count": null,
      "outputs": []
    },
    {
      "cell_type": "code",
      "metadata": {
        "id": "W838kmh94Bbl"
      },
      "source": [
        "for i in rez.iloc[change_to_yes].index:\n",
        "    rez.iloc[i]['wanted'] = 'y'"
      ],
      "execution_count": null,
      "outputs": []
    },
    {
      "cell_type": "code",
      "metadata": {
        "id": "iszB0iS64Bbm"
      },
      "source": [
        "for i in rez.iloc[change_to_no].index:\n",
        "    rez.iloc[i]['wanted'] = 'n'"
      ],
      "execution_count": null,
      "outputs": []
    },
    {
      "cell_type": "code",
      "metadata": {
        "id": "80U4SXmC4Bbm"
      },
      "source": [
        "rez"
      ],
      "execution_count": null,
      "outputs": []
    },
    {
      "cell_type": "code",
      "metadata": {
        "scrolled": true,
        "id": "Bjx-HH9z4Bbm"
      },
      "source": [
        "df"
      ],
      "execution_count": null,
      "outputs": []
    },
    {
      "cell_type": "code",
      "metadata": {
        "id": "WJQtqEK64Bbn"
      },
      "source": [
        "combined = pd.concat([df[['wanted', 'text']], rez[['wanted', 'text']]])"
      ],
      "execution_count": null,
      "outputs": []
    },
    {
      "cell_type": "code",
      "metadata": {
        "scrolled": true,
        "id": "RKkGPPrn4Bbn"
      },
      "source": [
        "combined"
      ],
      "execution_count": null,
      "outputs": []
    },
    {
      "cell_type": "code",
      "metadata": {
        "id": "78Fk5JT_4Bbn"
      },
      "source": [
        "tvcomb = vect.fit_transform(combined['text'], combined['wanted'])"
      ],
      "execution_count": null,
      "outputs": []
    },
    {
      "cell_type": "code",
      "metadata": {
        "id": "8PY9mrJT4Bbo"
      },
      "source": [
        "model = clf.fit(tvcomb, combined['wanted'])"
      ],
      "execution_count": null,
      "outputs": []
    },
    {
      "cell_type": "code",
      "metadata": {
        "id": "WZnxfkdq4Bbo"
      },
      "source": [
        "model"
      ],
      "execution_count": null,
      "outputs": []
    },
    {
      "cell_type": "code",
      "metadata": {
        "id": "XLJEDTOv4Bbp"
      },
      "source": [
        "import pickle"
      ],
      "execution_count": null,
      "outputs": []
    },
    {
      "cell_type": "code",
      "metadata": {
        "id": "n1MANV_e4Bbp"
      },
      "source": [
        "pickle.dump(model, open(r'/path/to/output/your/pickle/model_file.p', 'wb'))"
      ],
      "execution_count": null,
      "outputs": []
    },
    {
      "cell_type": "code",
      "metadata": {
        "id": "urrytda64Bbp"
      },
      "source": [
        "pickle.dump(vect, open(r'/path/to/your/pickle/vect_file.p', 'wb'))"
      ],
      "execution_count": null,
      "outputs": []
    },
    {
      "cell_type": "code",
      "metadata": {
        "id": "mAPiQJB24Bbq"
      },
      "source": [
        ""
      ],
      "execution_count": null,
      "outputs": []
    }
  ]
}