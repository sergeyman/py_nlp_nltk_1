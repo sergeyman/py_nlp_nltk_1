{
  "nbformat": 4,
  "nbformat_minor": 0,
  "metadata": {
    "kernelspec": {
      "display_name": "Python 3",
      "language": "python",
      "name": "python3"
    },
    "language_info": {
      "codemirror_mode": {
        "name": "ipython",
        "version": 3
      },
      "file_extension": ".py",
      "mimetype": "text/x-python",
      "name": "python",
      "nbconvert_exporter": "python",
      "pygments_lexer": "ipython3",
      "version": "3.6.5"
    },
    "colab": {
      "name": "PMLB SE - Ch 5.ipynb",
      "provenance": [],
      "collapsed_sections": [
        "4o1o1tSe4BbK",
        "9aVdIyKQ4BbX",
        "nA9GESbj4Bba",
        "ILHrpWUG4Bbd"
      ],
      "include_colab_link": true
    }
  },
  "cells": [
    {
      "cell_type": "markdown",
      "metadata": {
        "id": "view-in-github",
        "colab_type": "text"
      },
      "source": [
        "<a href=\"https://colab.research.google.com/github/sergeyman/py_nlp_nltk_1/blob/main/PMLB_SE_Ch_5.ipynb\" target=\"_parent\"><img src=\"https://colab.research.google.com/assets/colab-badge.svg\" alt=\"Open In Colab\"/></a>"
      ]
    },
    {
      "cell_type": "code",
      "metadata": {
        "id": "42b1HBTK4Ba-"
      },
      "source": [
        "\n",
        "# Pocket\n",
        "# My Applications\n",
        "# In Development\n",
        "# NAME\t\t  PLATFORM\t\t      CONSUMER KEY\n",
        "# Newsfeed\tAndroid - Mobile\t96779-785f8e21498d91359ddbeb55\n",
        "# Newsfeed\tAndroid - Tablet\t96779-3eb65576097636bbae7de71d\n",
        "# Newsfeed\tExtension\t\t      96779-ceabd8029fdf6078580f4ccc\n",
        "# Newsfeed\tWindows - Desktop\t96779-4bdbc0dcdfe1e3e89da9b55f\n",
        "# Newsfeed\tWeb\t\t\t          96779-f71d606f7d5a34fa3a1cb015\n",
        "# Newsfeed\tMobile (other)\t\t96779-a30d61857b2c0f2c0b6cc914\n",
        "# Newsfeed\tDesktop (other)\t\t96779-fcaf090432e3b6a8a08e644c\n",
        "\n",
        "# https://stackoverflow.com/questions/41412167/why-pocket-api-returns-403-forbidden-always\n",
        "# curl -X POST -H 'Content-Type: application/json' -d '{\"consumer_key\":\"96779-4bdbc0dcdfe1e3e89da9b55f\",\"redirect_uri\":\"AppTest:authorizationFinished\"}' https://getpocket.com/v3/oauth/request\n",
        "\n",
        "# https://getpocket.com/auth/authorize?request_token=XXXXXXXX-XXXX-XXXX-XXXX-XXXX&redirect_uri=AppTest:authorizationFinished\n",
        "\n",
        "# https://getpocket.com/auth/authorize?request_token=193code=032165bf-00d3-67be-22de-523d18&redirect_uri=AppTest:authorizationFinished\n",
        "# 193code=032165bf-00d3-67be-22de-523d18\n",
        "\n",
        "# https://www.jamesfmackenzie.com/getting-started-with-the-pocket-developer-api/\n",
        "# STEP 1. CREATE AN APP IN THE POCKET DEVELOPER PORTAL, GET YOUR CONSUMER KEY\n",
        "# STEP 2. OBTAIN A REQUEST TOKEN\n",
        "#   curl https://getpocket.com/v3/oauth/request --insecure -X POST -H \"Content-Type: application/json\" -H \"X-Accept: application/json\" -d \"{\\\"consumer_key\\\":\\\"1234-abcd1234abcd1234abcd1234\\\",\\\"redirect_uri\\\":\\\"http://www.google.com\\\"}\"\n",
        "#   curl https://getpocket.com/v3/oauth/request --insecure -X POST -H \"Content-Type: application/json\" -H \"X-Accept: application/json\" -d \"{\\\"consumer_key\\\":\\\"96779-4bdbc0dcdfe1e3e89da9b55f\\\",\\\"redirect_uri\\\":\\\"http://www.google.com\\\"}\"\n",
        "#   >> 3dc5559c-9528-9188-6770-108638\n",
        "\n",
        "# STEP 3. VISIT THE POCKET WEBSITE TO AUTHORIZE YOUR APP\n",
        "#   https://getpocket.com/auth/authorize?request_token=YOUR_REQUEST_TOKEN&redirect_uri=YOUR_REDIRECT_URI    //redirect_uri=http://www.google.com\n",
        "#   https://getpocket.com/auth/authorize?request_token=3dc5559c-9528-9188-6770-108638&redirect_uri=http://www.google.com\n",
        "\n",
        "# STEP 4. CONVERT YOUR REQUEST TOKEN INTO A POCKET ACCESS TOKEN\n",
        "#   curl https://getpocket.com/v3/oauth/authorize --insecure -X POST -H \"Content-Type: application/json\" -H \"X-Accept: application/json\" -d \"{\\\"consumer_key\\\":\\\"1234-abcd1234abcd1234abcd1234\\\",\\\"code\\\":\\\"dcba4321-dcba-4321-dcba-4321dc\\\"}\"\n",
        "#   curl https://getpocket.com/v3/oauth/authorize --insecure -X POST -H \"Content-Type: application/json\" -H \"X-Accept: application/json\" -d \"{\\\"consumer_key\\\":\\\"96779-4bdbc0dcdfe1e3e89da9b55f\\\",\\\"code\\\":\\\"3dc5559c-9528-9188-6770-108638\\\"}\"\n",
        "#   >> {\"access_token\":\"82f13b3e-87aa-cfa2-891f-68c485\",\"username\":\"sergeyman78@gmail.com\"}\n",
        "\n",
        "\n",
        "# STEP 5. MAKE AUTHENTICATED REQUESTS AGAINST THE POCKET API\n",
        "#   curl https://getpocket.com/v3/get --insecure -X POST -H \"Content-Type: application/json\" -H \"X-Accept: application/json\" -d \"{\\\"consumer_key\\\":\\\"1234-abcd1234abcd1234abcd1234\\\", \\\"access_token\\\":\\\"5678defg-5678-defg-5678-defg56\\\"}\"\n",
        "#   curl https://getpocket.com/v3/get --insecure -X POST -H \"Content-Type: application/json\" -H \"X-Accept: application/json\" -d \"{\\\"consumer_key\\\":\\\"96779-4bdbc0dcdfe1e3e89da9b55f\\\", \\\"access_token\\\":\\\"82f13b3e-87aa-cfa2-891f-68c485\\\"}\"\n",
        "\n",
        "\n",
        "\n",
        "import requests\n",
        "import pandas as pd\n",
        "import json\n",
        "pd.set_option('display.max_colwidth', 200)"
      ],
      "execution_count": null,
      "outputs": []
    },
    {
      "cell_type": "markdown",
      "metadata": {
        "id": "yGBDAmaA4BbC"
      },
      "source": [
        "## Get Stories from Pocket"
      ]
    },
    {
      "cell_type": "code",
      "metadata": {
        "id": "s-GGr8Qm4BbD"
      },
      "source": [
        "CONSUMER_KEY = '96779-4bdbc0dcdfe1e3e89da9b55f'  #'your_pocket_consumer_key'"
      ],
      "execution_count": null,
      "outputs": []
    },
    {
      "cell_type": "code",
      "metadata": {
        "id": "3TSKsvP24BbE"
      },
      "source": [
        "auth_params = {'consumer_key': CONSUMER_KEY, 'redirect_uri': 'https://twitter.com/acombs'}"
      ],
      "execution_count": null,
      "outputs": []
    },
    {
      "cell_type": "code",
      "metadata": {
        "id": "YEV5vedb4BbE"
      },
      "source": [
        "tkn = requests.post('https://getpocket.com/v3/oauth/request', data=auth_params)"
      ],
      "execution_count": null,
      "outputs": []
    },
    {
      "cell_type": "code",
      "metadata": {
        "colab": {
          "base_uri": "https://localhost:8080/",
          "height": 35
        },
        "id": "D-JiB0wq4BbF",
        "outputId": "a68500b8-13e2-48e2-bb58-0a6df77d7ef8"
      },
      "source": [
        "tkn.text"
      ],
      "execution_count": null,
      "outputs": [
        {
          "output_type": "execute_result",
          "data": {
            "application/vnd.google.colaboratory.intrinsic+json": {
              "type": "string"
            },
            "text/plain": [
              "'code=f4d2e007-d3a2-b1f6-1263-b04bdd'"
            ]
          },
          "metadata": {
            "tags": []
          },
          "execution_count": 10
        }
      ]
    },
    {
      "cell_type": "code",
      "metadata": {
        "id": "uWgsSy-z4BbG"
      },
      "source": [
        "ACCESS_CODE = tkn.text.split('=')[1]"
      ],
      "execution_count": null,
      "outputs": []
    },
    {
      "cell_type": "code",
      "metadata": {
        "colab": {
          "base_uri": "https://localhost:8080/",
          "height": 35
        },
        "id": "7t0Caz9u4BbG",
        "outputId": "2f7a146e-e6d9-4ed0-d389-b2c01721cf78"
      },
      "source": [
        "ACCESS_CODE"
      ],
      "execution_count": null,
      "outputs": [
        {
          "output_type": "execute_result",
          "data": {
            "application/vnd.google.colaboratory.intrinsic+json": {
              "type": "string"
            },
            "text/plain": [
              "'f4d2e007-d3a2-b1f6-1263-b04bdd'"
            ]
          },
          "metadata": {
            "tags": []
          },
          "execution_count": 12
        }
      ]
    },
    {
      "cell_type": "code",
      "metadata": {
        "id": "_13zRqgS4BbH"
      },
      "source": [
        "URL = 'https://getpocket.com/auth/authorize?request_token=' + ACCESS_CODE + '&redirect_uri=https%3A//www.twitter.com/acombs'"
      ],
      "execution_count": null,
      "outputs": []
    },
    {
      "cell_type": "code",
      "metadata": {
        "colab": {
          "base_uri": "https://localhost:8080/",
          "height": 35
        },
        "id": "dcUJmAa04BbI",
        "outputId": "77907e48-f548-4969-ad55-c09562ebdc63"
      },
      "source": [
        "URL"
      ],
      "execution_count": null,
      "outputs": [
        {
          "output_type": "execute_result",
          "data": {
            "application/vnd.google.colaboratory.intrinsic+json": {
              "type": "string"
            },
            "text/plain": [
              "'https://getpocket.com/auth/authorize?request_token=36b710d7-4a68-2a7e-7612-ddad1d&redirect_uri=https%3A//www.twitter.com/acombs'"
            ]
          },
          "metadata": {
            "tags": []
          },
          "execution_count": 9
        }
      ]
    },
    {
      "cell_type": "code",
      "metadata": {
        "id": "V4MTlt7Y4BbI"
      },
      "source": [
        "usr_params = {'consumer_key': CONSUMER_KEY, 'code': ACCESS_CODE}"
      ],
      "execution_count": null,
      "outputs": []
    },
    {
      "cell_type": "code",
      "metadata": {
        "id": "sk4G8VnX4BbJ"
      },
      "source": [
        "usr = requests.post('https://getpocket.com/v3/oauth/authorize', data=usr_params)"
      ],
      "execution_count": null,
      "outputs": []
    },
    {
      "cell_type": "code",
      "metadata": {
        "colab": {
          "base_uri": "https://localhost:8080/",
          "height": 35
        },
        "id": "nMVcCe-L4BbJ",
        "outputId": "006534f3-154d-4b5d-fedd-f92e9a257db8"
      },
      "source": [
        "usr.text"
      ],
      "execution_count": null,
      "outputs": [
        {
          "output_type": "execute_result",
          "data": {
            "application/vnd.google.colaboratory.intrinsic+json": {
              "type": "string"
            },
            "text/plain": [
              "'403 Forbidden'"
            ]
          },
          "metadata": {
            "tags": []
          },
          "execution_count": 12
        }
      ]
    },
    {
      "cell_type": "code",
      "metadata": {
        "id": "w6G3t7n44BbJ"
      },
      "source": [
        "# ACCESS_TOKEN = usr.text.split('=')[1].split('&')[0]\n",
        "\n",
        "ACCESS_TOKEN = \"82f13b3e-87aa-cfa2-891f-68c485\""
      ],
      "execution_count": null,
      "outputs": []
    },
    {
      "cell_type": "code",
      "metadata": {
        "colab": {
          "base_uri": "https://localhost:8080/",
          "height": 35
        },
        "id": "qU9cTURy4BbJ",
        "outputId": "ba923319-9219-4678-aafe-48305424fb1a"
      },
      "source": [
        "ACCESS_TOKEN"
      ],
      "execution_count": null,
      "outputs": [
        {
          "output_type": "execute_result",
          "data": {
            "application/vnd.google.colaboratory.intrinsic+json": {
              "type": "string"
            },
            "text/plain": [
              "'82f13b3e-87aa-cfa2-891f-68c485'"
            ]
          },
          "metadata": {
            "tags": []
          },
          "execution_count": 4
        }
      ]
    },
    {
      "cell_type": "markdown",
      "metadata": {
        "id": "4o1o1tSe4BbK"
      },
      "source": [
        "### Get 'no' stories"
      ]
    },
    {
      "cell_type": "code",
      "metadata": {
        "id": "Xcr00ogs4BbK"
      },
      "source": [
        "no_params = {'consumer_key': CONSUMER_KEY,\n",
        "'access_token': ACCESS_TOKEN,\n",
        "'tag': 'n'}"
      ],
      "execution_count": null,
      "outputs": []
    },
    {
      "cell_type": "code",
      "metadata": {
        "id": "ePFSW_mv4BbL"
      },
      "source": [
        "no_result = requests.post('https://getpocket.com/v3/get', data=no_params)"
      ],
      "execution_count": null,
      "outputs": []
    },
    {
      "cell_type": "code",
      "metadata": {
        "colab": {
          "base_uri": "https://localhost:8080/",
          "height": 137
        },
        "id": "KQ6WIIO84BbL",
        "outputId": "6c878931-a4a6-4ae4-89a7-040f00f407c7"
      },
      "source": [
        "no_result.text"
      ],
      "execution_count": null,
      "outputs": [
        {
          "output_type": "execute_result",
          "data": {
            "application/vnd.google.colaboratory.intrinsic+json": {
              "type": "string"
            },
            "text/plain": [
              "'{\"status\":1,\"complete\":1,\"list\":{\"622912615\":{\"item_id\":\"622912615\",\"resolved_id\":\"622912615\",\"given_url\":\"https:\\\\/\\\\/sqlitebrowser.org\\\\/\",\"given_title\":\"DB Browser for SQLite\",\"favorite\":\"0\",\"status\":\"0\",\"time_added\":\"1617972028\",\"time_updated\":\"1617972034\",\"time_read\":\"0\",\"time_favorited\":\"0\",\"sort_id\":0,\"resolved_title\":\"DB Browser for SQLite\",\"resolved_url\":\"https:\\\\/\\\\/sqlitebrowser.org\\\\/\",\"excerpt\":\"DB Browser for SQLite (DB4S) is a high quality, visual, open source tool to create, design, and edit database files compatible with SQLite. DB4S is for users and developers who want to create, search, and edit databases.\",\"is_article\":\"0\",\"is_index\":\"1\",\"has_video\":\"0\",\"has_image\":\"1\",\"word_count\":\"204\",\"lang\":\"en\",\"listen_duration_estimate\":79},\"814196634\":{\"item_id\":\"814196634\",\"resolved_id\":\"814196634\",\"given_url\":\"https:\\\\/\\\\/www.jamesfmackenzie.com\\\\/getting-started-with-the-pocket-developer-api\\\\/\",\"given_title\":\"Getting Started With the Pocket Developer API\",\"favorite\":\"0\",\"status\":\"0\",\"time_added\":\"1617971985\",\"time_updated\":\"1617971997\",\"time_read\":\"0\",\"time_favorited\":\"0\",\"sort_id\":1,\"resolved_title\":\"Getting Started With the Pocket Developer API\",\"resolved_url\":\"http:\\\\/\\\\/www.jamesfmackenzie.com\\\\/getting-started-with-the-pocket-developer-api\\\\/\",\"excerpt\":\"I want to automatically extract the video from my Pocketed content and sync it to my phone. To do this, I\\\\u2019ll need to extend Pocket via the Developer API. Here\\\\u2019s how to get started. Head over to the Pocket Developer Portal and create a new App.\",\"is_article\":\"1\",\"is_index\":\"0\",\"has_video\":\"0\",\"has_image\":\"1\",\"word_count\":\"850\",\"lang\":\"en\",\"time_to_read\":4,\"listen_duration_estimate\":329}},\"error\":null,\"search_meta\":{\"search_type\":\"normal\"},\"since\":1617972052}'"
            ]
          },
          "metadata": {
            "tags": []
          },
          "execution_count": 33
        }
      ]
    },
    {
      "cell_type": "code",
      "metadata": {
        "id": "6-IdQL4-4BbM"
      },
      "source": [
        "no_jf = json.loads(no_result.text)"
      ],
      "execution_count": null,
      "outputs": []
    },
    {
      "cell_type": "code",
      "metadata": {
        "id": "z1pGldop4BbM"
      },
      "source": [
        "no_jd = no_jf['list']"
      ],
      "execution_count": null,
      "outputs": []
    },
    {
      "cell_type": "code",
      "metadata": {
        "colab": {
          "base_uri": "https://localhost:8080/"
        },
        "id": "XmkDeJzD4BbN",
        "outputId": "47534906-f0c1-4d08-c45c-032d2c5de69c"
      },
      "source": [
        "no_jd"
      ],
      "execution_count": null,
      "outputs": [
        {
          "output_type": "execute_result",
          "data": {
            "text/plain": [
              "{'622912615': {'excerpt': 'DB Browser for SQLite (DB4S) is a high quality, visual, open source tool to create, design, and edit database files compatible with SQLite. DB4S is for users and developers who want to create, search, and edit databases.',\n",
              "  'favorite': '0',\n",
              "  'given_title': 'DB Browser for SQLite',\n",
              "  'given_url': 'https://sqlitebrowser.org/',\n",
              "  'has_image': '1',\n",
              "  'has_video': '0',\n",
              "  'is_article': '0',\n",
              "  'is_index': '1',\n",
              "  'item_id': '622912615',\n",
              "  'lang': 'en',\n",
              "  'listen_duration_estimate': 79,\n",
              "  'resolved_id': '622912615',\n",
              "  'resolved_title': 'DB Browser for SQLite',\n",
              "  'resolved_url': 'https://sqlitebrowser.org/',\n",
              "  'sort_id': 0,\n",
              "  'status': '0',\n",
              "  'time_added': '1617972028',\n",
              "  'time_favorited': '0',\n",
              "  'time_read': '0',\n",
              "  'time_updated': '1617972034',\n",
              "  'word_count': '204'},\n",
              " '814196634': {'excerpt': 'I want to automatically extract the video from my Pocketed content and sync it to my phone. To do this, I’ll need to extend Pocket via the Developer API. Here’s how to get started. Head over to the Pocket Developer Portal and create a new App.',\n",
              "  'favorite': '0',\n",
              "  'given_title': 'Getting Started With the Pocket Developer API',\n",
              "  'given_url': 'https://www.jamesfmackenzie.com/getting-started-with-the-pocket-developer-api/',\n",
              "  'has_image': '1',\n",
              "  'has_video': '0',\n",
              "  'is_article': '1',\n",
              "  'is_index': '0',\n",
              "  'item_id': '814196634',\n",
              "  'lang': 'en',\n",
              "  'listen_duration_estimate': 329,\n",
              "  'resolved_id': '814196634',\n",
              "  'resolved_title': 'Getting Started With the Pocket Developer API',\n",
              "  'resolved_url': 'http://www.jamesfmackenzie.com/getting-started-with-the-pocket-developer-api/',\n",
              "  'sort_id': 1,\n",
              "  'status': '0',\n",
              "  'time_added': '1617971985',\n",
              "  'time_favorited': '0',\n",
              "  'time_read': '0',\n",
              "  'time_to_read': 4,\n",
              "  'time_updated': '1617971997',\n",
              "  'word_count': '850'}}"
            ]
          },
          "metadata": {
            "tags": []
          },
          "execution_count": 36
        }
      ]
    },
    {
      "cell_type": "code",
      "metadata": {
        "id": "mX1KFW8f4BbO"
      },
      "source": [
        "no_urls=[]\n",
        "for i in no_jd.values():\n",
        "    no_urls.append(i.get('resolved_url'))"
      ],
      "execution_count": null,
      "outputs": []
    },
    {
      "cell_type": "code",
      "metadata": {
        "scrolled": true,
        "colab": {
          "base_uri": "https://localhost:8080/"
        },
        "id": "bImLDare4BbO",
        "outputId": "21869ad8-4e97-4169-fe83-04e6647c3c96"
      },
      "source": [
        "no_urls"
      ],
      "execution_count": null,
      "outputs": [
        {
          "output_type": "execute_result",
          "data": {
            "text/plain": [
              "['https://sqlitebrowser.org/',\n",
              " 'http://www.jamesfmackenzie.com/getting-started-with-the-pocket-developer-api/']"
            ]
          },
          "metadata": {
            "tags": []
          },
          "execution_count": 38
        }
      ]
    },
    {
      "cell_type": "code",
      "metadata": {
        "colab": {
          "base_uri": "https://localhost:8080/"
        },
        "id": "l9Lz32Q24BbP",
        "outputId": "31e2e169-8218-4218-97db-58ae7e858186"
      },
      "source": [
        "len(no_urls)"
      ],
      "execution_count": null,
      "outputs": [
        {
          "output_type": "execute_result",
          "data": {
            "text/plain": [
              "2"
            ]
          },
          "metadata": {
            "tags": []
          },
          "execution_count": 39
        }
      ]
    },
    {
      "cell_type": "code",
      "metadata": {
        "scrolled": true,
        "id": "QbPcQ7sP4BbP"
      },
      "source": [
        "no_uf = pd.DataFrame(no_urls, columns=['urls'])"
      ],
      "execution_count": null,
      "outputs": []
    },
    {
      "cell_type": "code",
      "metadata": {
        "scrolled": true,
        "colab": {
          "base_uri": "https://localhost:8080/",
          "height": 111
        },
        "id": "fFrriB0C4BbQ",
        "outputId": "968bf279-d101-4710-a0c4-8ce126fc2a97"
      },
      "source": [
        "no_uf"
      ],
      "execution_count": null,
      "outputs": [
        {
          "output_type": "execute_result",
          "data": {
            "text/html": [
              "<div>\n",
              "<style scoped>\n",
              "    .dataframe tbody tr th:only-of-type {\n",
              "        vertical-align: middle;\n",
              "    }\n",
              "\n",
              "    .dataframe tbody tr th {\n",
              "        vertical-align: top;\n",
              "    }\n",
              "\n",
              "    .dataframe thead th {\n",
              "        text-align: right;\n",
              "    }\n",
              "</style>\n",
              "<table border=\"1\" class=\"dataframe\">\n",
              "  <thead>\n",
              "    <tr style=\"text-align: right;\">\n",
              "      <th></th>\n",
              "      <th>urls</th>\n",
              "    </tr>\n",
              "  </thead>\n",
              "  <tbody>\n",
              "    <tr>\n",
              "      <th>0</th>\n",
              "      <td>https://sqlitebrowser.org/</td>\n",
              "    </tr>\n",
              "    <tr>\n",
              "      <th>1</th>\n",
              "      <td>http://www.jamesfmackenzie.com/getting-started-with-the-pocket-developer-api/</td>\n",
              "    </tr>\n",
              "  </tbody>\n",
              "</table>\n",
              "</div>"
            ],
            "text/plain": [
              "                                                                            urls\n",
              "0                                                     https://sqlitebrowser.org/\n",
              "1  http://www.jamesfmackenzie.com/getting-started-with-the-pocket-developer-api/"
            ]
          },
          "metadata": {
            "tags": []
          },
          "execution_count": 41
        }
      ]
    },
    {
      "cell_type": "code",
      "metadata": {
        "id": "CzE2UzrS4BbQ"
      },
      "source": [
        "no_uf = no_uf.assign(wanted = lambda x: 'n')"
      ],
      "execution_count": null,
      "outputs": []
    },
    {
      "cell_type": "code",
      "metadata": {
        "scrolled": true,
        "colab": {
          "base_uri": "https://localhost:8080/",
          "height": 111
        },
        "id": "0ngQ4b4j4BbR",
        "outputId": "58dd20de-6e79-4909-ea12-44c580323c77"
      },
      "source": [
        "no_uf"
      ],
      "execution_count": null,
      "outputs": [
        {
          "output_type": "execute_result",
          "data": {
            "text/html": [
              "<div>\n",
              "<style scoped>\n",
              "    .dataframe tbody tr th:only-of-type {\n",
              "        vertical-align: middle;\n",
              "    }\n",
              "\n",
              "    .dataframe tbody tr th {\n",
              "        vertical-align: top;\n",
              "    }\n",
              "\n",
              "    .dataframe thead th {\n",
              "        text-align: right;\n",
              "    }\n",
              "</style>\n",
              "<table border=\"1\" class=\"dataframe\">\n",
              "  <thead>\n",
              "    <tr style=\"text-align: right;\">\n",
              "      <th></th>\n",
              "      <th>urls</th>\n",
              "      <th>wanted</th>\n",
              "    </tr>\n",
              "  </thead>\n",
              "  <tbody>\n",
              "    <tr>\n",
              "      <th>0</th>\n",
              "      <td>https://sqlitebrowser.org/</td>\n",
              "      <td>n</td>\n",
              "    </tr>\n",
              "    <tr>\n",
              "      <th>1</th>\n",
              "      <td>http://www.jamesfmackenzie.com/getting-started-with-the-pocket-developer-api/</td>\n",
              "      <td>n</td>\n",
              "    </tr>\n",
              "  </tbody>\n",
              "</table>\n",
              "</div>"
            ],
            "text/plain": [
              "                                                                            urls wanted\n",
              "0                                                     https://sqlitebrowser.org/      n\n",
              "1  http://www.jamesfmackenzie.com/getting-started-with-the-pocket-developer-api/      n"
            ]
          },
          "metadata": {
            "tags": []
          },
          "execution_count": 43
        }
      ]
    },
    {
      "cell_type": "markdown",
      "metadata": {
        "id": "oMxbgUqQ4BbR"
      },
      "source": [
        "### Get 'yes' stories"
      ]
    },
    {
      "cell_type": "code",
      "metadata": {
        "id": "ui5cAHu14BbS"
      },
      "source": [
        "yes_params = {'consumer_key': CONSUMER_KEY,\n",
        "'access_token': ACCESS_TOKEN,\n",
        "'tag': 'y'#,\n",
        "#'state': 'archive'}\n",
        "}"
      ],
      "execution_count": null,
      "outputs": []
    },
    {
      "cell_type": "code",
      "metadata": {
        "id": "yFF6hhz94BbS"
      },
      "source": [
        "yes_result = requests.post('https://getpocket.com/v3/get', data=yes_params)"
      ],
      "execution_count": null,
      "outputs": []
    },
    {
      "cell_type": "code",
      "metadata": {
        "colab": {
          "base_uri": "https://localhost:8080/",
          "height": 137
        },
        "id": "Gi3plvej4BbT",
        "outputId": "99f52044-0a63-4a77-eb8a-0c358f6dce0c"
      },
      "source": [
        "yes_result.text"
      ],
      "execution_count": null,
      "outputs": [
        {
          "output_type": "execute_result",
          "data": {
            "application/vnd.google.colaboratory.intrinsic+json": {
              "type": "string"
            },
            "text/plain": [
              "'{\"status\":1,\"complete\":1,\"list\":{\"3302323341\":{\"item_id\":\"3302323341\",\"resolved_id\":\"3302323372\",\"given_url\":\"https:\\\\/\\\\/freesoft.ru\\\\/blog\\\\/kak-v-viber-vosstanovit-perepisku-posle-udaleniya#article-title-3\",\"given_title\":\"\\\\u041a\\\\u0430\\\\u043a \\\\u0432 Viber \\\\u0432\\\\u043e\\\\u0441\\\\u0441\\\\u0442\\\\u0430\\\\u043d\\\\u043e\\\\u0432\\\\u0438\\\\u0442\\\\u044c \\\\u043f\\\\u0435\\\\u0440\\\\u0435\\\\u043f\\\\u0438\\\\u0441\\\\u043a\\\\u0443 \\\\u0438 \\\\u0443\\\\u0434\\\\u0430\\\\u043b\\\\u0435\\\\u043d\\\\u043d\\\\u044b\\\\u0435 \\\\u0441\\\\u043e\\\\u043e\\\\u0431\\\\u0449\\\\u0435\\\\u043d\\\\u0438\\\\u044f\",\"favorite\":\"0\",\"status\":\"0\",\"time_added\":\"1617972409\",\"time_updated\":\"1617972414\",\"time_read\":\"0\",\"time_favorited\":\"0\",\"sort_id\":0,\"resolved_title\":\"Viber: \\\\u0432\\\\u043e\\\\u0441\\\\u0441\\\\u0442\\\\u0430\\\\u043d\\\\u0430\\\\u0432\\\\u043b\\\\u0438\\\\u0432\\\\u0430\\\\u0435\\\\u043c \\\\u0443\\\\u0434\\\\u0430\\\\u043b\\\\u0435\\\\u043d\\\\u043d\\\\u0443\\\\u044e \\\\u043f\\\\u0435\\\\u0440\\\\u0435\\\\u043f\\\\u0438\\\\u0441\\\\u043a\\\\u0443\",\"resolved_url\":\"https:\\\\/\\\\/freesoft.ru\\\\/blog\\\\/kak-v-viber-vosstanovit-perepisku-posle-udaleniya\",\"excerpt\":\"\\\\u041f\\\\u043e\\\\u043b\\\\u044c\\\\u0437\\\\u043e\\\\u0432\\\\u0430\\\\u043b\\\\u0438\\\\u0441\\\\u044c \\\\u043c\\\\u0435\\\\u0441\\\\u0441\\\\u0435\\\\u043d\\\\u0434\\\\u0436\\\\u0435\\\\u0440\\\\u043e\\\\u043c, \\\\u0443\\\\u0434\\\\u0430\\\\u043b\\\\u0438\\\\u043b\\\\u0438, \\\\u0442\\\\u0435\\\\u043f\\\\u0435\\\\u0440\\\\u044c \\\\u0432\\\\u0434\\\\u0440\\\\u0443\\\\u0433 \\\\u0440\\\\u0435\\\\u0448\\\\u0438\\\\u043b\\\\u0438 \\\\u0443\\\\u0441\\\\u0442\\\\u0430\\\\u043d\\\\u043e\\\\u0432\\\\u0438\\\\u0442\\\\u044c \\\\u043e\\\\u0431\\\\u0440\\\\u0430\\\\u0442\\\\u043d\\\\u043e \\\\u0438 \\\\u0432\\\\u0435\\\\u0440\\\\u043d\\\\u0443\\\\u0442\\\\u044c \\\\u0432\\\\u0441\\\\u044e \\\\u043f\\\\u0435\\\\u0440\\\\u0435\\\\u043f\\\\u0438\\\\u0441\\\\u043a\\\\u0443? \\\\u0412\\\\u0441\\\\u0435 \\\\u043f\\\\u0440\\\\u043e\\\\u0441\\\\u0442\\\\u043e: \\\\u0434\\\\u0435\\\\u043b\\\\u0430\\\\u0435\\\\u043c \\\\u043e\\\\u0431\\\\u044b\\\\u0447\\\\u043d\\\\u0443\\\\u044e \\\\u0443\\\\u0441\\\\u0442\\\\u0430\\\\u043d\\\\u043e\\\\u0432\\\\u043a\\\\u0443 \\\\u0438\\\\u043b\\\\u0438 \\\\u043f\\\\u0435\\\\u0440\\\\u0435\\\\u0443\\\\u0441\\\\u0442\\\\u0430\\\\u043d\\\\u043e\\\\u0432\\\\u043a\\\\u0443 \\\\u043f\\\\u0440\\\\u0438\\\\u043b\\\\u043e\\\\u0436\",\"is_article\":\"1\",\"is_index\":\"0\",\"has_video\":\"1\",\"has_image\":\"1\",\"word_count\":\"596\",\"lang\":\"ru\",\"time_to_read\":3,\"top_image_url\":\"https:\\\\/\\\\/freesoft.ru\\\\/storage\\\\/images\\\\/news\\\\/fv\\\\/fVlnv75m3gwa4t6-340.jpg\",\"listen_duration_estimate\":231}},\"error\":null,\"search_meta\":{\"search_type\":\"normal\"},\"since\":1617973487}'"
            ]
          },
          "metadata": {
            "tags": []
          },
          "execution_count": 62
        }
      ]
    },
    {
      "cell_type": "code",
      "metadata": {
        "id": "Z3OyDdmt4BbT"
      },
      "source": [
        "yes_jf = json.loads(yes_result.text)"
      ],
      "execution_count": null,
      "outputs": []
    },
    {
      "cell_type": "code",
      "metadata": {
        "id": "v9Y17J1q4BbT"
      },
      "source": [
        "yes_jd = yes_jf['list']"
      ],
      "execution_count": null,
      "outputs": []
    },
    {
      "cell_type": "code",
      "metadata": {
        "colab": {
          "base_uri": "https://localhost:8080/"
        },
        "id": "gRsIdhqx4BbU",
        "outputId": "7aecef0a-2968-4167-e6b1-ba852abf044d"
      },
      "source": [
        "yes_jf"
      ],
      "execution_count": null,
      "outputs": [
        {
          "output_type": "execute_result",
          "data": {
            "text/plain": [
              "{'complete': 1,\n",
              " 'error': None,\n",
              " 'list': {'3302323341': {'excerpt': 'Пользовались мессенджером, удалили, теперь вдруг решили установить обратно и вернуть всю переписку? Все просто: делаем обычную установку или переустановку прилож',\n",
              "   'favorite': '0',\n",
              "   'given_title': 'Как в Viber восстановить переписку и удаленные сообщения',\n",
              "   'given_url': 'https://freesoft.ru/blog/kak-v-viber-vosstanovit-perepisku-posle-udaleniya#article-title-3',\n",
              "   'has_image': '1',\n",
              "   'has_video': '1',\n",
              "   'is_article': '1',\n",
              "   'is_index': '0',\n",
              "   'item_id': '3302323341',\n",
              "   'lang': 'ru',\n",
              "   'listen_duration_estimate': 231,\n",
              "   'resolved_id': '3302323372',\n",
              "   'resolved_title': 'Viber: восстанавливаем удаленную переписку',\n",
              "   'resolved_url': 'https://freesoft.ru/blog/kak-v-viber-vosstanovit-perepisku-posle-udaleniya',\n",
              "   'sort_id': 0,\n",
              "   'status': '0',\n",
              "   'time_added': '1617972409',\n",
              "   'time_favorited': '0',\n",
              "   'time_read': '0',\n",
              "   'time_to_read': 3,\n",
              "   'time_updated': '1617972414',\n",
              "   'top_image_url': 'https://freesoft.ru/storage/images/news/fv/fVlnv75m3gwa4t6-340.jpg',\n",
              "   'word_count': '596'}},\n",
              " 'search_meta': {'search_type': 'normal'},\n",
              " 'since': 1617973487,\n",
              " 'status': 1}"
            ]
          },
          "metadata": {
            "tags": []
          },
          "execution_count": 65
        }
      ]
    },
    {
      "cell_type": "code",
      "metadata": {
        "id": "2eTkK6gl4BbU"
      },
      "source": [
        "yes_urls=[]\n",
        "for i in yes_jd.values():\n",
        "    yes_urls.append(i.get('resolved_url'))"
      ],
      "execution_count": null,
      "outputs": []
    },
    {
      "cell_type": "code",
      "metadata": {
        "colab": {
          "base_uri": "https://localhost:8080/"
        },
        "id": "0UIbMwnX4BbU",
        "outputId": "346c6b48-5bb0-428a-d324-15f6bd20666e"
      },
      "source": [
        "len(yes_urls)"
      ],
      "execution_count": null,
      "outputs": [
        {
          "output_type": "execute_result",
          "data": {
            "text/plain": [
              "1"
            ]
          },
          "metadata": {
            "tags": []
          },
          "execution_count": 67
        }
      ]
    },
    {
      "cell_type": "code",
      "metadata": {
        "scrolled": true,
        "colab": {
          "base_uri": "https://localhost:8080/"
        },
        "id": "kPt2uK9k4BbV",
        "outputId": "2150e7c0-5e39-4d5d-913b-172f9dac5d55"
      },
      "source": [
        "yes_urls"
      ],
      "execution_count": null,
      "outputs": [
        {
          "output_type": "execute_result",
          "data": {
            "text/plain": [
              "['https://freesoft.ru/blog/kak-v-viber-vosstanovit-perepisku-posle-udaleniya']"
            ]
          },
          "metadata": {
            "tags": []
          },
          "execution_count": 68
        }
      ]
    },
    {
      "cell_type": "code",
      "metadata": {
        "id": "XTLvx6P04BbV"
      },
      "source": [
        "yes_uf = pd.DataFrame(yes_urls, columns=['urls'])"
      ],
      "execution_count": null,
      "outputs": []
    },
    {
      "cell_type": "code",
      "metadata": {
        "scrolled": true,
        "colab": {
          "base_uri": "https://localhost:8080/",
          "height": 80
        },
        "id": "3iQwL7je4BbV",
        "outputId": "22ff8e2a-6a7a-4191-9d6e-0a40985f4ecb"
      },
      "source": [
        "yes_uf"
      ],
      "execution_count": null,
      "outputs": [
        {
          "output_type": "execute_result",
          "data": {
            "text/html": [
              "<div>\n",
              "<style scoped>\n",
              "    .dataframe tbody tr th:only-of-type {\n",
              "        vertical-align: middle;\n",
              "    }\n",
              "\n",
              "    .dataframe tbody tr th {\n",
              "        vertical-align: top;\n",
              "    }\n",
              "\n",
              "    .dataframe thead th {\n",
              "        text-align: right;\n",
              "    }\n",
              "</style>\n",
              "<table border=\"1\" class=\"dataframe\">\n",
              "  <thead>\n",
              "    <tr style=\"text-align: right;\">\n",
              "      <th></th>\n",
              "      <th>urls</th>\n",
              "    </tr>\n",
              "  </thead>\n",
              "  <tbody>\n",
              "    <tr>\n",
              "      <th>0</th>\n",
              "      <td>https://freesoft.ru/blog/kak-v-viber-vosstanovit-perepisku-posle-udaleniya</td>\n",
              "    </tr>\n",
              "  </tbody>\n",
              "</table>\n",
              "</div>"
            ],
            "text/plain": [
              "                                                                         urls\n",
              "0  https://freesoft.ru/blog/kak-v-viber-vosstanovit-perepisku-posle-udaleniya"
            ]
          },
          "metadata": {
            "tags": []
          },
          "execution_count": 70
        }
      ]
    },
    {
      "cell_type": "code",
      "metadata": {
        "scrolled": true,
        "id": "L_q0TNki4BbW"
      },
      "source": [
        "yes_uf = yes_uf.assign(wanted = lambda x: 'y')"
      ],
      "execution_count": null,
      "outputs": []
    },
    {
      "cell_type": "code",
      "metadata": {
        "scrolled": true,
        "colab": {
          "base_uri": "https://localhost:8080/",
          "height": 80
        },
        "id": "MovnRAxB4BbW",
        "outputId": "caa39519-deb8-42e7-817c-f81edf566a80"
      },
      "source": [
        "yes_uf"
      ],
      "execution_count": null,
      "outputs": [
        {
          "output_type": "execute_result",
          "data": {
            "text/html": [
              "<div>\n",
              "<style scoped>\n",
              "    .dataframe tbody tr th:only-of-type {\n",
              "        vertical-align: middle;\n",
              "    }\n",
              "\n",
              "    .dataframe tbody tr th {\n",
              "        vertical-align: top;\n",
              "    }\n",
              "\n",
              "    .dataframe thead th {\n",
              "        text-align: right;\n",
              "    }\n",
              "</style>\n",
              "<table border=\"1\" class=\"dataframe\">\n",
              "  <thead>\n",
              "    <tr style=\"text-align: right;\">\n",
              "      <th></th>\n",
              "      <th>urls</th>\n",
              "      <th>wanted</th>\n",
              "    </tr>\n",
              "  </thead>\n",
              "  <tbody>\n",
              "    <tr>\n",
              "      <th>0</th>\n",
              "      <td>https://freesoft.ru/blog/kak-v-viber-vosstanovit-perepisku-posle-udaleniya</td>\n",
              "      <td>y</td>\n",
              "    </tr>\n",
              "  </tbody>\n",
              "</table>\n",
              "</div>"
            ],
            "text/plain": [
              "                                                                         urls wanted\n",
              "0  https://freesoft.ru/blog/kak-v-viber-vosstanovit-perepisku-posle-udaleniya      y"
            ]
          },
          "metadata": {
            "tags": []
          },
          "execution_count": 72
        }
      ]
    },
    {
      "cell_type": "code",
      "metadata": {
        "id": "ltKUXoP94BbW"
      },
      "source": [
        "df = pd.concat([yes_uf, no_uf])"
      ],
      "execution_count": null,
      "outputs": []
    },
    {
      "cell_type": "code",
      "metadata": {
        "scrolled": true,
        "id": "nUEVqFb54BbX"
      },
      "source": [
        "df.dropna(inplace=True)"
      ],
      "execution_count": null,
      "outputs": []
    },
    {
      "cell_type": "code",
      "metadata": {
        "scrolled": true,
        "colab": {
          "base_uri": "https://localhost:8080/",
          "height": 142
        },
        "id": "ht2Ar1T34BbX",
        "outputId": "04db9c02-bd3c-4036-b048-37f02dc5acaa"
      },
      "source": [
        "df"
      ],
      "execution_count": null,
      "outputs": [
        {
          "output_type": "execute_result",
          "data": {
            "text/html": [
              "<div>\n",
              "<style scoped>\n",
              "    .dataframe tbody tr th:only-of-type {\n",
              "        vertical-align: middle;\n",
              "    }\n",
              "\n",
              "    .dataframe tbody tr th {\n",
              "        vertical-align: top;\n",
              "    }\n",
              "\n",
              "    .dataframe thead th {\n",
              "        text-align: right;\n",
              "    }\n",
              "</style>\n",
              "<table border=\"1\" class=\"dataframe\">\n",
              "  <thead>\n",
              "    <tr style=\"text-align: right;\">\n",
              "      <th></th>\n",
              "      <th>urls</th>\n",
              "      <th>wanted</th>\n",
              "    </tr>\n",
              "  </thead>\n",
              "  <tbody>\n",
              "    <tr>\n",
              "      <th>0</th>\n",
              "      <td>https://freesoft.ru/blog/kak-v-viber-vosstanovit-perepisku-posle-udaleniya</td>\n",
              "      <td>y</td>\n",
              "    </tr>\n",
              "    <tr>\n",
              "      <th>0</th>\n",
              "      <td>https://sqlitebrowser.org/</td>\n",
              "      <td>n</td>\n",
              "    </tr>\n",
              "    <tr>\n",
              "      <th>1</th>\n",
              "      <td>http://www.jamesfmackenzie.com/getting-started-with-the-pocket-developer-api/</td>\n",
              "      <td>n</td>\n",
              "    </tr>\n",
              "  </tbody>\n",
              "</table>\n",
              "</div>"
            ],
            "text/plain": [
              "                                                                            urls wanted\n",
              "0     https://freesoft.ru/blog/kak-v-viber-vosstanovit-perepisku-posle-udaleniya      y\n",
              "0                                                     https://sqlitebrowser.org/      n\n",
              "1  http://www.jamesfmackenzie.com/getting-started-with-the-pocket-developer-api/      n"
            ]
          },
          "metadata": {
            "tags": []
          },
          "execution_count": 75
        }
      ]
    },
    {
      "cell_type": "markdown",
      "metadata": {
        "id": "9aVdIyKQ4BbX"
      },
      "source": [
        "## Download Articles to Run Through Model"
      ]
    },
    {
      "cell_type": "code",
      "metadata": {
        "id": "O2nqcqXF4BbY"
      },
      "source": [
        "import urllib"
      ],
      "execution_count": null,
      "outputs": []
    },
    {
      "cell_type": "code",
      "metadata": {
        "id": "91pUSSlz4BbY"
      },
      "source": [
        "EMBEDLY_KEY = 'you_embedly_api_key_here'\n",
        "\n",
        "def get_html(x):\n",
        "    try:\n",
        "        qurl = urllib.parse.quote(x)\n",
        "        rhtml = requests.get('https://api.embedly.com/1/extract?url=' + qurl + '&key=' + EMBEDLY_KEY)\n",
        "        ctnt = json.loads(rhtml.text).get('content')\n",
        "    except:\n",
        "        return None\n",
        "    return ctnt"
      ],
      "execution_count": null,
      "outputs": []
    },
    {
      "cell_type": "code",
      "metadata": {
        "scrolled": true,
        "id": "LMYf-1Ik4BbZ"
      },
      "source": [
        "df.loc[:,'html'] = df['urls'].map(get_html)"
      ],
      "execution_count": null,
      "outputs": []
    },
    {
      "cell_type": "code",
      "metadata": {
        "scrolled": true,
        "id": "kYK-VWXj4BbZ"
      },
      "source": [
        "df.dropna(inplace=True)"
      ],
      "execution_count": null,
      "outputs": []
    },
    {
      "cell_type": "code",
      "metadata": {
        "scrolled": true,
        "id": "PQcvBRGa4BbZ"
      },
      "source": [
        "df"
      ],
      "execution_count": null,
      "outputs": []
    },
    {
      "cell_type": "markdown",
      "metadata": {
        "id": "nA9GESbj4Bba"
      },
      "source": [
        "### Extract the text"
      ]
    },
    {
      "cell_type": "code",
      "metadata": {
        "id": "YLwuBn1Q4Bba"
      },
      "source": [
        "from bs4 import BeautifulSoup"
      ],
      "execution_count": null,
      "outputs": []
    },
    {
      "cell_type": "code",
      "metadata": {
        "id": "XIGshrWA4Bba"
      },
      "source": [
        "def get_text(x):\n",
        "    soup = BeautifulSoup(x, 'html5lib')\n",
        "    text = soup.get_text()\n",
        "    return text"
      ],
      "execution_count": null,
      "outputs": []
    },
    {
      "cell_type": "code",
      "metadata": {
        "id": "TF4hrSSP4Bbb"
      },
      "source": [
        "df.loc[:,'text'] = df['html'].map(get_text)"
      ],
      "execution_count": null,
      "outputs": []
    },
    {
      "cell_type": "code",
      "metadata": {
        "scrolled": true,
        "id": "tE0RkGcf4Bbb"
      },
      "source": [
        "df"
      ],
      "execution_count": null,
      "outputs": []
    },
    {
      "cell_type": "markdown",
      "metadata": {
        "id": "UqDGTEn24Bbb"
      },
      "source": [
        "# Implement Tfid Vectorization & Fit Model"
      ]
    },
    {
      "cell_type": "code",
      "metadata": {
        "id": "EUuyKlDB4Bbc"
      },
      "source": [
        "from sklearn.feature_extraction.text import TfidfVectorizer\n",
        "from sklearn.svm import LinearSVC"
      ],
      "execution_count": null,
      "outputs": []
    },
    {
      "cell_type": "code",
      "metadata": {
        "id": "mqomO8Z34Bbc"
      },
      "source": [
        "vect = TfidfVectorizer(ngram_range=(1,3), stop_words='english', min_df=3)"
      ],
      "execution_count": null,
      "outputs": []
    },
    {
      "cell_type": "code",
      "metadata": {
        "id": "9OQWjcHZ4Bbc"
      },
      "source": [
        "tv = vect.fit_transform(df['text'])"
      ],
      "execution_count": null,
      "outputs": []
    },
    {
      "cell_type": "code",
      "metadata": {
        "id": "hJ4_LJ3b4Bbd"
      },
      "source": [
        "clf = LinearSVC()"
      ],
      "execution_count": null,
      "outputs": []
    },
    {
      "cell_type": "code",
      "metadata": {
        "id": "diudnnBg4Bbd"
      },
      "source": [
        "model = clf.fit(tv, df['wanted'])"
      ],
      "execution_count": null,
      "outputs": []
    },
    {
      "cell_type": "markdown",
      "metadata": {
        "id": "ILHrpWUG4Bbd"
      },
      "source": [
        "## Pull New Articles from Google Drive Sheet to Evaluate"
      ]
    },
    {
      "cell_type": "code",
      "metadata": {
        "id": "nnRUWfTb4Bbe"
      },
      "source": [
        "import gspread\n",
        "from oauth2client.service_account import ServiceAccountCredentials"
      ],
      "execution_count": null,
      "outputs": []
    },
    {
      "cell_type": "code",
      "metadata": {
        "id": "xrbx2on14Bbe"
      },
      "source": [
        "JSON_API_KEY = r'/your/path/to/api/key/file.json'\n",
        "\n",
        "scope = ['https://spreadsheets.google.com/feeds',\n",
        "         'https://www.googleapis.com/auth/drive']\n",
        "\n",
        "credentials = ServiceAccountCredentials.from_json_keyfile_name(JSON_API_KEY, scope)\n",
        "gc = gspread.authorize(credentials)"
      ],
      "execution_count": null,
      "outputs": []
    },
    {
      "cell_type": "code",
      "metadata": {
        "id": "wcvkGmdi4Bbe"
      },
      "source": [
        "# must share with client_email in json api key file\n",
        "ws = gc.open(\"NewStories\")"
      ],
      "execution_count": null,
      "outputs": []
    },
    {
      "cell_type": "code",
      "metadata": {
        "id": "wAkTtWqh4Bbf"
      },
      "source": [
        "sh = ws.sheet1"
      ],
      "execution_count": null,
      "outputs": []
    },
    {
      "cell_type": "code",
      "metadata": {
        "id": "HDMXZ4sv4Bbf"
      },
      "source": [
        "zd = list(zip(sh.col_values(2),sh.col_values(3), sh.col_values(4)))"
      ],
      "execution_count": null,
      "outputs": []
    },
    {
      "cell_type": "code",
      "metadata": {
        "id": "6r6maAhX4Bbg"
      },
      "source": [
        "zd"
      ],
      "execution_count": null,
      "outputs": []
    },
    {
      "cell_type": "code",
      "metadata": {
        "id": "Dsy1IsZ-4Bbg"
      },
      "source": [
        "zf = pd.DataFrame(zd, columns=['title','urls','html'])"
      ],
      "execution_count": null,
      "outputs": []
    },
    {
      "cell_type": "code",
      "metadata": {
        "scrolled": true,
        "id": "1EkSHcCH4Bbg"
      },
      "source": [
        "zf.replace('', pd.np.nan, inplace=True)\n",
        "zf.dropna(inplace=True)"
      ],
      "execution_count": null,
      "outputs": []
    },
    {
      "cell_type": "code",
      "metadata": {
        "scrolled": true,
        "id": "UXz0nSW94Bbh"
      },
      "source": [
        "zf"
      ],
      "execution_count": null,
      "outputs": []
    },
    {
      "cell_type": "code",
      "metadata": {
        "id": "ae0zEU3L4Bbh"
      },
      "source": [
        "zf.loc[:,'text'] = zf['html'].map(get_text)"
      ],
      "execution_count": null,
      "outputs": []
    },
    {
      "cell_type": "code",
      "metadata": {
        "id": "y6EDIpDf4Bbh"
      },
      "source": [
        "zf.reset_index(drop=True, inplace=True)"
      ],
      "execution_count": null,
      "outputs": []
    },
    {
      "cell_type": "code",
      "metadata": {
        "id": "z-vzmtsj4Bbi"
      },
      "source": [
        "test_matrix = vect.transform(zf['text'])"
      ],
      "execution_count": null,
      "outputs": []
    },
    {
      "cell_type": "code",
      "metadata": {
        "id": "hUkTNE4x4Bbi"
      },
      "source": [
        "test_matrix"
      ],
      "execution_count": null,
      "outputs": []
    },
    {
      "cell_type": "code",
      "metadata": {
        "scrolled": true,
        "id": "ebqhmAmu4Bbi"
      },
      "source": [
        "results = pd.DataFrame(model.predict(test_matrix), columns=['wanted'])"
      ],
      "execution_count": null,
      "outputs": []
    },
    {
      "cell_type": "code",
      "metadata": {
        "scrolled": true,
        "id": "F2Aw_UDG4Bbj"
      },
      "source": [
        "results"
      ],
      "execution_count": null,
      "outputs": []
    },
    {
      "cell_type": "code",
      "metadata": {
        "id": "hSRksjw-4Bbj"
      },
      "source": [
        "rez = pd.merge(results,zf, left_index=True, right_index=True)"
      ],
      "execution_count": null,
      "outputs": []
    },
    {
      "cell_type": "code",
      "metadata": {
        "scrolled": true,
        "id": "C53pHmOC4Bbj"
      },
      "source": [
        "rez"
      ],
      "execution_count": null,
      "outputs": []
    },
    {
      "cell_type": "code",
      "metadata": {
        "scrolled": true,
        "id": "xXrYdFzC4Bbk"
      },
      "source": [
        "for i, w, t in zip(rez[rez['wanted']=='y'].index, rez[rez['wanted']=='y']['wanted'], rez[rez['wanted']=='y']['title']):\n",
        "    print(i, w, t)"
      ],
      "execution_count": null,
      "outputs": []
    },
    {
      "cell_type": "code",
      "metadata": {
        "id": "raYweRQN4Bbk"
      },
      "source": [
        "# those items to change to no\n",
        "change_to_no = [130, 145, 148, 163, 178, 199, 219, 222, 223, 226, 235, 279, 348, 357, 427, 440, 542, 544, 546, 568, 614, 619, 660, 668, 679, 686, 740, 829]"
      ],
      "execution_count": null,
      "outputs": []
    },
    {
      "cell_type": "code",
      "metadata": {
        "id": "tEFy0rC84Bbk"
      },
      "source": [
        "for i, w, t in zip(rez[rez['wanted']=='n'].index, rez[rez['wanted']=='n']['wanted'], rez[rez['wanted']=='n']['title']):\n",
        "    print(i, w, t)"
      ],
      "execution_count": null,
      "outputs": []
    },
    {
      "cell_type": "code",
      "metadata": {
        "id": "p7rFL0NG4Bbl"
      },
      "source": [
        "# those items to change to yes\n",
        "change_to_yes = [0, 9, 29, 35, 42, 71, 110, 190, 319, 335, 344, 371, 385, 399, 408, 409, 422, 472, 520, 534, 672]"
      ],
      "execution_count": null,
      "outputs": []
    },
    {
      "cell_type": "code",
      "metadata": {
        "id": "yYy2kFwM4Bbl"
      },
      "source": [
        "rez"
      ],
      "execution_count": null,
      "outputs": []
    },
    {
      "cell_type": "code",
      "metadata": {
        "id": "W838kmh94Bbl"
      },
      "source": [
        "for i in rez.iloc[change_to_yes].index:\n",
        "    rez.iloc[i]['wanted'] = 'y'"
      ],
      "execution_count": null,
      "outputs": []
    },
    {
      "cell_type": "code",
      "metadata": {
        "id": "iszB0iS64Bbm"
      },
      "source": [
        "for i in rez.iloc[change_to_no].index:\n",
        "    rez.iloc[i]['wanted'] = 'n'"
      ],
      "execution_count": null,
      "outputs": []
    },
    {
      "cell_type": "code",
      "metadata": {
        "id": "80U4SXmC4Bbm"
      },
      "source": [
        "rez"
      ],
      "execution_count": null,
      "outputs": []
    },
    {
      "cell_type": "code",
      "metadata": {
        "scrolled": true,
        "id": "Bjx-HH9z4Bbm"
      },
      "source": [
        "df"
      ],
      "execution_count": null,
      "outputs": []
    },
    {
      "cell_type": "code",
      "metadata": {
        "id": "WJQtqEK64Bbn"
      },
      "source": [
        "combined = pd.concat([df[['wanted', 'text']], rez[['wanted', 'text']]])"
      ],
      "execution_count": null,
      "outputs": []
    },
    {
      "cell_type": "code",
      "metadata": {
        "scrolled": true,
        "id": "RKkGPPrn4Bbn"
      },
      "source": [
        "combined"
      ],
      "execution_count": null,
      "outputs": []
    },
    {
      "cell_type": "code",
      "metadata": {
        "id": "78Fk5JT_4Bbn"
      },
      "source": [
        "tvcomb = vect.fit_transform(combined['text'], combined['wanted'])"
      ],
      "execution_count": null,
      "outputs": []
    },
    {
      "cell_type": "code",
      "metadata": {
        "id": "8PY9mrJT4Bbo"
      },
      "source": [
        "model = clf.fit(tvcomb, combined['wanted'])"
      ],
      "execution_count": null,
      "outputs": []
    },
    {
      "cell_type": "code",
      "metadata": {
        "id": "WZnxfkdq4Bbo"
      },
      "source": [
        "model"
      ],
      "execution_count": null,
      "outputs": []
    },
    {
      "cell_type": "code",
      "metadata": {
        "id": "XLJEDTOv4Bbp"
      },
      "source": [
        "import pickle"
      ],
      "execution_count": null,
      "outputs": []
    },
    {
      "cell_type": "code",
      "metadata": {
        "id": "n1MANV_e4Bbp"
      },
      "source": [
        "pickle.dump(model, open(r'/path/to/output/your/pickle/model_file.p', 'wb'))"
      ],
      "execution_count": null,
      "outputs": []
    },
    {
      "cell_type": "code",
      "metadata": {
        "id": "urrytda64Bbp"
      },
      "source": [
        "pickle.dump(vect, open(r'/path/to/your/pickle/vect_file.p', 'wb'))"
      ],
      "execution_count": null,
      "outputs": []
    },
    {
      "cell_type": "code",
      "metadata": {
        "id": "mAPiQJB24Bbq"
      },
      "source": [
        ""
      ],
      "execution_count": null,
      "outputs": []
    }
  ]
}